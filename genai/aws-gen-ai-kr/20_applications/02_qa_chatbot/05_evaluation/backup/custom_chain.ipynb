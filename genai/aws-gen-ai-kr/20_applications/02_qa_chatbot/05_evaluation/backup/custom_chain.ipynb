{
 "cells": [
  {
   "cell_type": "markdown",
   "id": "fd48f07c-1e05-479d-85c8-4dfcb42cc193",
   "metadata": {},
   "source": [
    "https://python.langchain.com/docs/modules/chains/foundational/sequential_chains"
   ]
  },
  {
   "cell_type": "code",
   "execution_count": null,
   "id": "bb8eaa26-3ca5-4078-a160-62d4aa015690",
   "metadata": {},
   "outputs": [],
   "source": []
  },
  {
   "cell_type": "code",
   "execution_count": null,
   "id": "36bfcca2-e142-4af5-8dc2-aac5ceb1c18a",
   "metadata": {},
   "outputs": [],
   "source": []
  },
  {
   "cell_type": "code",
   "execution_count": null,
   "id": "ab79780b-f8c2-4a75-8213-2120a5b35f2c",
   "metadata": {},
   "outputs": [],
   "source": []
  },
  {
   "cell_type": "code",
   "execution_count": 1,
   "id": "934a0430-6e4a-4985-866b-2a92e31061b2",
   "metadata": {
    "tags": []
   },
   "outputs": [],
   "source": [
    "from langchain.schema.output_parser import StrOutputParser\n",
    "from operator import itemgetter"
   ]
  },
  {
   "cell_type": "code",
   "execution_count": 2,
   "id": "1d4a2001-4ea6-467d-b3c8-79288160859a",
   "metadata": {
    "tags": []
   },
   "outputs": [
    {
     "ename": "NameError",
     "evalue": "name 'PROMPT_RETRIEVER' is not defined",
     "output_type": "error",
     "traceback": [
      "\u001b[0;31m---------------------------------------------------------------------------\u001b[0m",
      "\u001b[0;31mNameError\u001b[0m                                 Traceback (most recent call last)",
      "Cell \u001b[0;32mIn[2], line 6\u001b[0m\n\u001b[1;32m      1\u001b[0m gt_chain \u001b[38;5;241m=\u001b[39m (\n\u001b[1;32m      2\u001b[0m     {\n\u001b[1;32m      3\u001b[0m         \u001b[38;5;124m\"\u001b[39m\u001b[38;5;124mcontext\u001b[39m\u001b[38;5;124m\"\u001b[39m: itemgetter(\u001b[38;5;124m\"\u001b[39m\u001b[38;5;124mcontext\u001b[39m\u001b[38;5;124m\"\u001b[39m),\n\u001b[1;32m      4\u001b[0m         \u001b[38;5;124m\"\u001b[39m\u001b[38;5;124mnum_questions_per_chunk\u001b[39m\u001b[38;5;124m\"\u001b[39m: itemgetter(\u001b[38;5;124m\"\u001b[39m\u001b[38;5;124mnum_questions_per_chunk\u001b[39m\u001b[38;5;124m\"\u001b[39m),\n\u001b[1;32m      5\u001b[0m     }\n\u001b[0;32m----> 6\u001b[0m     \u001b[38;5;241m|\u001b[39m \u001b[43mPROMPT_RETRIEVER\u001b[49m\n\u001b[1;32m      7\u001b[0m     \u001b[38;5;241m|\u001b[39m llm_claude\n\u001b[1;32m      8\u001b[0m     \u001b[38;5;241m|\u001b[39m StrOutputParser()\n\u001b[1;32m      9\u001b[0m )\n",
      "\u001b[0;31mNameError\u001b[0m: name 'PROMPT_RETRIEVER' is not defined"
     ]
    }
   ],
   "source": [
    "gt_chain = (\n",
    "    {\n",
    "        \"context\": itemgetter(\"context\"),\n",
    "        \"num_questions_per_chunk\": itemgetter(\"num_questions_per_chunk\"),\n",
    "    }\n",
    "    | PROMPT_RETRIEVER\n",
    "    | llm_claude\n",
    "    | StrOutputParser()\n",
    ")"
   ]
  },
  {
   "cell_type": "code",
   "execution_count": null,
   "id": "0be9b58f-435a-4b24-9c77-7a8a9043b619",
   "metadata": {
    "tags": []
   },
   "outputs": [],
   "source": [
    "gt_chain.invoke({\"context\":\"hello, my name is dongjin.\", \"num_questions_per_chunk\":\"1\"})"
   ]
  },
  {
   "cell_type": "code",
   "execution_count": null,
   "id": "e4348d2f-cc72-4237-a67d-b71221a98af7",
   "metadata": {},
   "outputs": [],
   "source": []
  }
 ],
 "metadata": {
  "kernelspec": {
   "display_name": "conda_python3",
   "language": "python",
   "name": "conda_python3"
  },
  "language_info": {
   "codemirror_mode": {
    "name": "ipython",
    "version": 3
   },
   "file_extension": ".py",
   "mimetype": "text/x-python",
   "name": "python",
   "nbconvert_exporter": "python",
   "pygments_lexer": "ipython3",
   "version": "3.10.12"
  }
 },
 "nbformat": 4,
 "nbformat_minor": 5
}
