{
 "cells": [
  {
   "cell_type": "markdown",
   "id": "fb017ab4-a16a-4c67-b875-a29eed6aa5bd",
   "metadata": {
    "tags": []
   },
   "source": [
    "# 검증 데이터 셋으로 테스트\n"
   ]
  },
  {
   "cell_type": "markdown",
   "id": "8a2f9c19-c43c-435c-944d-77984b54a6d8",
   "metadata": {},
   "source": [
    "# 1. 환경 세팅"
   ]
  },
  {
   "cell_type": "code",
   "execution_count": 97,
   "id": "787df0f0-7fd9-47ca-a0c3-91b3037d6a10",
   "metadata": {
    "tags": []
   },
   "outputs": [
    {
     "name": "stdout",
     "output_type": "stream",
     "text": [
      "The autoreload extension is already loaded. To reload it, use:\n",
      "  %reload_ext autoreload\n",
      "local_module_path:  /home/sagemaker-user/aws-ai-ml-workshop-kr/genai/aws-gen-ai-kr/20_applications/03_reranker_hybrid_search\n"
     ]
    }
   ],
   "source": [
    "%load_ext autoreload\n",
    "%autoreload 2\n",
    "\n",
    "import sys, os\n",
    "\n",
    "local_module_path = \"../\"\n",
    "sys.path.append(os.path.abspath(local_module_path))\n",
    "print(\"local_module_path: \",os.path.abspath(local_module_path))"
   ]
  },
  {
   "cell_type": "markdown",
   "id": "cc49c8cf",
   "metadata": {},
   "source": [
    "## Bedrock Client 생성\n",
    "### 참고\n",
    "- 아래의 노트북은 베드락의 사용을 초기화 합니다. 추후에 베드락의 임베딩 모델등을 사용하기 위함 입니다.\n",
    "\n"
   ]
  },
  {
   "cell_type": "code",
   "execution_count": 98,
   "id": "ee268417-f4cf-448f-be1f-aae7f9a81c6c",
   "metadata": {
    "tags": []
   },
   "outputs": [
    {
     "name": "stdout",
     "output_type": "stream",
     "text": [
      "Create new client\n",
      "  Using region: us-east-1\n",
      "  Using profile: None\n",
      "boto3 Bedrock client successfully created!\n",
      "bedrock-runtime(https://bedrock-runtime.us-east-1.amazonaws.com)\n",
      "\u001b[32m\n",
      "== FM lists ==\u001b[0m\n",
      "############### bedrock info\n",
      "{'Claude-Instant-V1': 'anthropic.claude-instant-v1',\n",
      " 'Claude-V1': 'anthropic.claude-v1',\n",
      " 'Claude-V2': 'anthropic.claude-v2',\n",
      " 'Claude-V2-1': 'anthropic.claude-v2:1',\n",
      " 'Cohere-Embeddings-En': 'cohere.embed-english-v3',\n",
      " 'Cohere-Embeddings-Multilingual': 'cohere.embed-multilingual-v3',\n",
      " 'Command': 'cohere.command-text-v14',\n",
      " 'Command-Light': 'cohere.command-light-text-v14',\n",
      " 'Jurassic-2-Mid': 'ai21.j2-mid-v1',\n",
      " 'Jurassic-2-Ultra': 'ai21.j2-ultra-v1',\n",
      " 'Llama2-13b-Chat': 'meta.llama2-13b-chat-v1',\n",
      " 'Titan-Embeddings-G1': 'amazon.titan-embed-text-v1',\n",
      " 'Titan-Text-G1': 'amazon.titan-text-express-v1',\n",
      " 'Titan-Text-G1-Light': 'amazon.titan-text-lite-v1'}\n"
     ]
    }
   ],
   "source": [
    "import json\n",
    "import boto3\n",
    "from pprint import pprint\n",
    "from termcolor import colored\n",
    "from local_utils import bedrock, print_ww\n",
    "from local_utils.bedrock import bedrock_info\n",
    "\n",
    "boto3_bedrock = bedrock.get_bedrock_client(\n",
    "    assumed_role=os.environ.get(\"BEDROCK_ASSUME_ROLE\", None),\n",
    "    endpoint_url=os.environ.get(\"BEDROCK_ENDPOINT_URL\", None),\n",
    "    region=os.environ.get(\"AWS_DEFAULT_REGION\", None),\n",
    ")\n",
    "\n",
    "print (colored(\"\\n== FM lists ==\", \"green\"))\n",
    "pprint (bedrock_info.get_list_fm_models())\n"
   ]
  },
  {
   "cell_type": "markdown",
   "id": "16b9ad47-56b6-427d-84a6-4e792bf4f6f9",
   "metadata": {},
   "source": [
    "## Embedding 모델 선택"
   ]
  },
  {
   "cell_type": "code",
   "execution_count": 99,
   "id": "85910ba4-1eb0-4b38-8d46-aa8a3da3cd60",
   "metadata": {
    "tags": []
   },
   "outputs": [],
   "source": [
    "from local_utils.rag import (\n",
    "    KoSimCSERobertaContentHandler, \n",
    "    SagemakerEndpointEmbeddingsJumpStart,\n",
    "    get_embedding_model\n",
    ")"
   ]
  },
  {
   "cell_type": "markdown",
   "id": "1fe62c38-4b50-48ef-96de-3690361551de",
   "metadata": {},
   "source": [
    "#### [중요] is_KoSimCSERobert == True 경우,  endpoint_name 을 꼭 넣어 주세요."
   ]
  },
  {
   "cell_type": "code",
   "execution_count": 100,
   "id": "f767ca1c-1cf3-4da4-90b7-33e4b2d06606",
   "metadata": {},
   "outputs": [
    {
     "name": "stdout",
     "output_type": "stream",
     "text": [
      "kosimcse_endpoint_name: \n",
      " KoSimCSE-roberta-2024-02-12-06-54-55\n"
     ]
    }
   ],
   "source": [
    " %store -r koSimCSE_endpoint_name\n",
    "print(\"kosimcse_endpoint_name: \\n\", koSimCSE_endpoint_name)"
   ]
  },
  {
   "cell_type": "code",
   "execution_count": 101,
   "id": "b29f58a6-a230-4aa9-994d-0a6343f72fcb",
   "metadata": {
    "tags": []
   },
   "outputs": [
    {
     "name": "stdout",
     "output_type": "stream",
     "text": [
      "####################\n",
      "model_name:  Titan-Embeddings-G1\n",
      "Bedrock Embeddings Model Loaded\n"
     ]
    }
   ],
   "source": [
    "is_bedrock_embeddings = True\n",
    "is_KoSimCSERobert = False\n",
    "\n",
    "aws_region = os.environ.get(\"AWS_DEFAULT_REGION\", None)\n",
    "\n",
    "##############################\n",
    "# Parameters for is_KoSimCSERobert\n",
    "##############################\n",
    "if is_KoSimCSERobert: endpont_name = koSimCSE_endpoint_name\n",
    "else: endpont_name = None\n",
    "##############################\n",
    "\n",
    "llm_emb = get_embedding_model(is_bedrock_embeddings, is_KoSimCSERobert, boto3_bedrock, aws_region, endpont_name)    "
   ]
  },
  {
   "cell_type": "markdown",
   "id": "3efd4c0f-f861-44f0-8d7c-1f4b8ab36d1b",
   "metadata": {
    "tags": []
   },
   "source": [
    "# 2. OpenSearch Client 생성\n",
    "    \n",
    "#### [중요] 아래에 aws parameter store 에 아래 인증정보가 먼저 입력되어 있어야 합니다."
   ]
  },
  {
   "cell_type": "code",
   "execution_count": 102,
   "id": "fadd5da7-b0e9-46ff-8363-85b1db883219",
   "metadata": {
    "tags": []
   },
   "outputs": [],
   "source": [
    "from local_utils.proc_docs import get_parameter"
   ]
  },
  {
   "cell_type": "code",
   "execution_count": 103,
   "id": "1084b2cf-9601-4026-b8e8-5d7ea27f5e74",
   "metadata": {
    "tags": []
   },
   "outputs": [],
   "source": [
    "aws_region = 'us-east-1'\n",
    "ssm = boto3.client(\"ssm\", aws_region)\n",
    "\n",
    "opensearch_domain_endpoint = get_parameter(\n",
    "    boto3_clinet = ssm,\n",
    "    parameter_name = 'lec_opensearch_domain_endpoint',\n",
    ")\n",
    "\n",
    "opensearch_user_id = get_parameter(\n",
    "    boto3_clinet = ssm,\n",
    "    parameter_name = 'lec_opensearch_userid',\n",
    ")\n",
    "\n",
    "opensearch_user_password = get_parameter(\n",
    "    boto3_clinet = ssm,\n",
    "    parameter_name = 'lec_opensearch_password',\n",
    ")\n",
    "\n",
    "http_auth = (opensearch_user_id, opensearch_user_password) # Master username, Master password"
   ]
  },
  {
   "cell_type": "code",
   "execution_count": 104,
   "id": "1d1f5685-8e8f-43a6-84d1-6c7b450f817b",
   "metadata": {
    "tags": []
   },
   "outputs": [],
   "source": [
    "from local_utils.opensearch import opensearch_utils"
   ]
  },
  {
   "cell_type": "code",
   "execution_count": 105,
   "id": "6a1fd652-f8fa-4289-ae5b-90021b553871",
   "metadata": {
    "tags": []
   },
   "outputs": [],
   "source": [
    "os_client = opensearch_utils.create_aws_opensearch_client(\n",
    "    aws_region,\n",
    "    opensearch_domain_endpoint,\n",
    "    http_auth\n",
    ")"
   ]
  },
  {
   "cell_type": "markdown",
   "id": "187ceea4-4d80-41bf-9431-47d5f3902396",
   "metadata": {
    "tags": []
   },
   "source": [
    "# 3. OpenSearch 벡터 Index 확인\n"
   ]
  },
  {
   "cell_type": "markdown",
   "id": "3a6c5796-a418-4505-ba28-0ca33c3fa9f8",
   "metadata": {},
   "source": [
    "## 오픈 서치 인덱스 확인 \n"
   ]
  },
  {
   "cell_type": "code",
   "execution_count": 106,
   "id": "de560c28-695a-462d-a2a9-1cef871b7460",
   "metadata": {},
   "outputs": [],
   "source": [
    "%store -r index_name"
   ]
  },
  {
   "cell_type": "code",
   "execution_count": 107,
   "id": "65dc8117",
   "metadata": {},
   "outputs": [
    {
     "name": "stdout",
     "output_type": "stream",
     "text": [
      "index_name:  search_retail_demo_store\n"
     ]
    }
   ],
   "source": [
    "# index_name = \"lecm-intent-v3\"\n",
    "%store -r index_name\n",
    "print(\"index_name: \", index_name)"
   ]
  },
  {
   "cell_type": "code",
   "execution_count": 108,
   "id": "9cf8addb-9345-499e-b079-94c2612f88b6",
   "metadata": {
    "tags": []
   },
   "outputs": [
    {
     "name": "stdout",
     "output_type": "stream",
     "text": [
      "index_name=search_retail_demo_store, exists=True\n",
      "Index is ready\n"
     ]
    }
   ],
   "source": [
    "\n",
    "index_exists = opensearch_utils.check_if_index_exists(os_client, index_name)\n",
    "\n",
    "if index_exists:\n",
    "    print(\"Index is ready\")\n",
    "\n"
   ]
  },
  {
   "cell_type": "markdown",
   "id": "e1ac962c",
   "metadata": {},
   "source": [
    "## 랭체인 인덱스 연결 오브젝트 생성\n",
    "\n",
    "- [langchain.vectorstores.opensearch_vector_search.OpenSearchVectorSearch](https://api.python.langchain.com/en/latest/vectorstores/langchain.vectorstores.opensearch_vector_search.OpenSearchVectorSearch.html)"
   ]
  },
  {
   "cell_type": "code",
   "execution_count": 109,
   "id": "aed7b6f7",
   "metadata": {},
   "outputs": [
    {
     "data": {
      "text/plain": [
       "<langchain_community.vectorstores.opensearch_vector_search.OpenSearchVectorSearch at 0x7fa0a9772e00>"
      ]
     },
     "execution_count": 109,
     "metadata": {},
     "output_type": "execute_result"
    }
   ],
   "source": [
    "from langchain.vectorstores import OpenSearchVectorSearch\n",
    "\n",
    "vector_db = OpenSearchVectorSearch(\n",
    "    index_name=index_name,\n",
    "    opensearch_url=opensearch_domain_endpoint,\n",
    "    embedding_function=llm_emb,\n",
    "    http_auth=http_auth, # http_auth\n",
    "    is_aoss =False,\n",
    "    engine=\"faiss\",\n",
    "    space_type=\"l2\",\n",
    "    bulk_size=100000,\n",
    "    timeout=60    \n",
    ")\n",
    "vector_db"
   ]
  },
  {
   "cell_type": "markdown",
   "id": "68b1532a-1430-4853-b385-af9d21d24ba2",
   "metadata": {},
   "source": [
    "# 4. 검증 데이터 읽기\n",
    "- /data/aws_opensearch_data_validate.csv"
   ]
  },
  {
   "cell_type": "code",
   "execution_count": 110,
   "id": "c723ff27-17e9-4b75-a576-219750afe45f",
   "metadata": {},
   "outputs": [
    {
     "data": {
      "text/plain": [
       "0                       남성용 블랙 포멀 슈즈 한 켤레\n",
       "1                     모든 욕실에 사용할 수 있는 면도기\n",
       "2        우리 재배자들이 신선하고 활기차게 배달한 백합 어레인지먼트\n",
       "3       이 어쿠스틱 드럼은 아마추어 및 전문 뮤지션에게 적합합니다.\n",
       "4      이 어쿠스틱 베이스는 아마추어 및 전문 음악가에게 적합합니다.\n",
       "                      ...                \n",
       "370      우리 돼지고기는 농부들이 지속 가능한 방식으로 사육합니다.\n",
       "371            어떤 상황에도 어울리는 여성용 울트라시크 스카프\n",
       "372              모든 상황에 어울리는 고급스러운 세라믹 그릇\n",
       "373         이 새들 브라운 드레시 핸드백은 전형적인 필수품입니다\n",
       "374    이 스틸 블루 스퀘어 쿠션은 집에 꼭 있어야 할 필수품입니다.\n",
       "Name: input, Length: 375, dtype: object"
      ]
     },
     "execution_count": 110,
     "metadata": {},
     "output_type": "execute_result"
    }
   ],
   "source": [
    "import pandas as pd \n",
    "import os\n",
    "\n",
    "dataset_folder = \"../data/retail_demo_store/\"\n",
    "\n",
    "data_file_path =  os.path.join(dataset_folder,\"input_raw/test_kr_search_retail_demo.csv\")\n",
    "# data_file_path =  os.path.join(dataset_folder,\"input_raw/aws_opensearch_data_validate.csv\")\n",
    "\n",
    "dfv =  pd.read_csv(data_file_path)\n",
    "dfv['input']"
   ]
  },
  {
   "cell_type": "code",
   "execution_count": 111,
   "id": "126b61e6",
   "metadata": {},
   "outputs": [],
   "source": [
    "import os\n",
    "\n",
    "output_folder_name = os.path.join(dataset_folder, \"output\" )\n",
    "os.makedirs(output_folder_name, exist_ok=True)"
   ]
  },
  {
   "cell_type": "markdown",
   "id": "8af387fb",
   "metadata": {},
   "source": [
    "# 5. Lexical Search"
   ]
  },
  {
   "cell_type": "code",
   "execution_count": 139,
   "id": "14c29785",
   "metadata": {},
   "outputs": [
    {
     "name": "stdout",
     "output_type": "stream",
     "text": [
      "##############################\n",
      "parallel way:  True\n",
      "search method:  lexical\n",
      "##############################\n",
      "../data/retail_demo_store/output/aws_opensearch_result01.csv is saved\n"
     ]
    }
   ],
   "source": [
    "from local_utils.rag import (evaluate_search_methods)\n",
    "# def evaluate_search_methods(output_file_path, search_method, eval_df, verbose=False):\n",
    "\n",
    "output_file_path = os.path.join(dataset_folder, \"output/aws_opensearch_result01.csv\" )    \n",
    "evaluate_search_methods(output_file_path=output_file_path, \n",
    "                        parallel = True,\n",
    "                        num_process = 30, # how many processes to run\n",
    "                        num_eval = 1200, # how many samples to run, now max is 1200\n",
    "                        search_method='lexical', \n",
    "                        eval_df = dfv, \n",
    "                        vector_db = vector_db,\n",
    "                        single_num_result = 3,\n",
    "                        hybrid_num_result = 1,\n",
    "                        index_name = index_name,\n",
    "                        os_client = os_client,\n",
    "                        minimum_should_match = 50,\n",
    "                        ensemble_weights = [0.50, 0.50],\n",
    "                        verbose= False )"
   ]
  },
  {
   "cell_type": "code",
   "execution_count": 113,
   "id": "00cbe801",
   "metadata": {},
   "outputs": [
    {
     "data": {
      "text/html": [
       "<div>\n",
       "<style scoped>\n",
       "    .dataframe tbody tr th:only-of-type {\n",
       "        vertical-align: middle;\n",
       "    }\n",
       "\n",
       "    .dataframe tbody tr th {\n",
       "        vertical-align: top;\n",
       "    }\n",
       "\n",
       "    .dataframe thead th {\n",
       "        text-align: right;\n",
       "    }\n",
       "</style>\n",
       "<table border=\"1\" class=\"dataframe\">\n",
       "  <thead>\n",
       "    <tr style=\"text-align: right;\">\n",
       "      <th></th>\n",
       "      <th>Unnamed: 0</th>\n",
       "      <th>product</th>\n",
       "      <th>input</th>\n",
       "      <th>intent</th>\n",
       "      <th>result</th>\n",
       "    </tr>\n",
       "  </thead>\n",
       "  <tbody>\n",
       "    <tr>\n",
       "      <th>0</th>\n",
       "      <td>0</td>\n",
       "      <td>블랙 슈즈</td>\n",
       "      <td>남성용 블랙 포멀 슈즈 한 켤레</td>\n",
       "      <td>신발|정장</td>\n",
       "      <td>신발|정장</td>\n",
       "    </tr>\n",
       "    <tr>\n",
       "      <th>1</th>\n",
       "      <td>1</td>\n",
       "      <td>스틸 가위</td>\n",
       "      <td>모든 욕실에 사용할 수 있는 면도기</td>\n",
       "      <td>뷰티|그루밍</td>\n",
       "      <td>뷰티|그루밍</td>\n",
       "    </tr>\n",
       "    <tr>\n",
       "      <th>2</th>\n",
       "      <td>2</td>\n",
       "      <td>백합 어레인지먼트</td>\n",
       "      <td>우리 재배자들이 신선하고 활기차게 배달한 백합 어레인지먼트</td>\n",
       "      <td>플로럴|어레인지먼트</td>\n",
       "      <td>플로럴|어레인지먼트</td>\n",
       "    </tr>\n",
       "    <tr>\n",
       "      <th>3</th>\n",
       "      <td>3</td>\n",
       "      <td>어쿠스틱 드럼</td>\n",
       "      <td>이 어쿠스틱 드럼은 아마추어 및 전문 뮤지션에게 적합합니다.</td>\n",
       "      <td>악기|타악기</td>\n",
       "      <td>악기|타악기</td>\n",
       "    </tr>\n",
       "    <tr>\n",
       "      <th>4</th>\n",
       "      <td>4</td>\n",
       "      <td>어쿠스틱 베이스</td>\n",
       "      <td>이 어쿠스틱 베이스는 아마추어 및 전문 음악가에게 적합합니다.</td>\n",
       "      <td>악기 | 현악기</td>\n",
       "      <td>악기 | 현악기</td>\n",
       "    </tr>\n",
       "    <tr>\n",
       "      <th>...</th>\n",
       "      <td>...</td>\n",
       "      <td>...</td>\n",
       "      <td>...</td>\n",
       "      <td>...</td>\n",
       "      <td>...</td>\n",
       "    </tr>\n",
       "    <tr>\n",
       "      <th>370</th>\n",
       "      <td>370</td>\n",
       "      <td>돼지고기</td>\n",
       "      <td>우리 돼지고기는 농부들이 지속 가능한 방식으로 사육합니다.</td>\n",
       "      <td>식료품|고기</td>\n",
       "      <td>식료품|고기</td>\n",
       "    </tr>\n",
       "    <tr>\n",
       "      <th>371</th>\n",
       "      <td>371</td>\n",
       "      <td>울트라시크 스카프</td>\n",
       "      <td>어떤 상황에도 어울리는 여성용 울트라시크 스카프</td>\n",
       "      <td>의류|스카프</td>\n",
       "      <td>의류|스카프</td>\n",
       "    </tr>\n",
       "    <tr>\n",
       "      <th>372</th>\n",
       "      <td>372</td>\n",
       "      <td>고급스러운 세라믹 볼</td>\n",
       "      <td>모든 상황에 어울리는 고급스러운 세라믹 그릇</td>\n",
       "      <td>가정용품|그릇</td>\n",
       "      <td>가정용품|그릇</td>\n",
       "    </tr>\n",
       "    <tr>\n",
       "      <th>373</th>\n",
       "      <td>373</td>\n",
       "      <td>새들 브라운 핸드백</td>\n",
       "      <td>이 새들 브라운 드레시 핸드백은 전형적인 필수품입니다</td>\n",
       "      <td>액세서리|핸드백</td>\n",
       "      <td>액세서리|핸드백</td>\n",
       "    </tr>\n",
       "    <tr>\n",
       "      <th>374</th>\n",
       "      <td>374</td>\n",
       "      <td>스틸 블루 스퀘어 쿠션</td>\n",
       "      <td>이 스틸 블루 스퀘어 쿠션은 집에 꼭 있어야 할 필수품입니다.</td>\n",
       "      <td>홈 데코 | 쿠션</td>\n",
       "      <td>홈 데코 | 쿠션</td>\n",
       "    </tr>\n",
       "  </tbody>\n",
       "</table>\n",
       "<p>375 rows × 5 columns</p>\n",
       "</div>"
      ],
      "text/plain": [
       "     Unnamed: 0       product                               input      intent  \\\n",
       "0             0         블랙 슈즈                   남성용 블랙 포멀 슈즈 한 켤레       신발|정장   \n",
       "1             1         스틸 가위                 모든 욕실에 사용할 수 있는 면도기      뷰티|그루밍   \n",
       "2             2     백합 어레인지먼트    우리 재배자들이 신선하고 활기차게 배달한 백합 어레인지먼트  플로럴|어레인지먼트   \n",
       "3             3       어쿠스틱 드럼   이 어쿠스틱 드럼은 아마추어 및 전문 뮤지션에게 적합합니다.      악기|타악기   \n",
       "4             4      어쿠스틱 베이스  이 어쿠스틱 베이스는 아마추어 및 전문 음악가에게 적합합니다.    악기 | 현악기   \n",
       "..          ...           ...                                 ...         ...   \n",
       "370         370          돼지고기    우리 돼지고기는 농부들이 지속 가능한 방식으로 사육합니다.      식료품|고기   \n",
       "371         371     울트라시크 스카프          어떤 상황에도 어울리는 여성용 울트라시크 스카프      의류|스카프   \n",
       "372         372   고급스러운 세라믹 볼            모든 상황에 어울리는 고급스러운 세라믹 그릇     가정용품|그릇   \n",
       "373         373    새들 브라운 핸드백       이 새들 브라운 드레시 핸드백은 전형적인 필수품입니다    액세서리|핸드백   \n",
       "374         374  스틸 블루 스퀘어 쿠션  이 스틸 블루 스퀘어 쿠션은 집에 꼭 있어야 할 필수품입니다.   홈 데코 | 쿠션   \n",
       "\n",
       "         result  \n",
       "0         신발|정장  \n",
       "1        뷰티|그루밍  \n",
       "2    플로럴|어레인지먼트  \n",
       "3        악기|타악기  \n",
       "4      악기 | 현악기  \n",
       "..          ...  \n",
       "370      식료품|고기  \n",
       "371      의류|스카프  \n",
       "372     가정용품|그릇  \n",
       "373    액세서리|핸드백  \n",
       "374   홈 데코 | 쿠션  \n",
       "\n",
       "[375 rows x 5 columns]"
      ]
     },
     "execution_count": 113,
     "metadata": {},
     "output_type": "execute_result"
    }
   ],
   "source": [
    "\n",
    "pd.set_option('display.max_rows', 100)\n",
    "df = pd.read_csv(output_file_path)\n",
    "df"
   ]
  },
  {
   "cell_type": "code",
   "execution_count": 114,
   "id": "a0c67e35",
   "metadata": {},
   "outputs": [
    {
     "data": {
      "text/plain": [
       "result\n",
       "가정용품|주방       33\n",
       "계절|크리스마스      19\n",
       "가구|테이블        19\n",
       "가구|의자         16\n",
       "의류|재킷         16\n",
       "신발|정장         16\n",
       "의류|셔츠         15\n",
       "가정 장식 | 장식    13\n",
       "악기 | 현악기      12\n",
       "가정용품|그릇       12\n",
       "식료품|베이커리      11\n",
       "액세서리|안경       11\n",
       "홈 데코 | 조명     11\n",
       "액세서리|배낭       10\n",
       "가구|소파         10\n",
       "액세서리|벨트        9\n",
       "신발|스니커즈        9\n",
       "보석|팔찌          9\n",
       "홈 데코 | 쿠션      9\n",
       "계절별|할로윈        9\n",
       "의류|스카프         8\n",
       "액세서리|핸드백       8\n",
       "계절|부활절         8\n",
       "식료품|야채         8\n",
       "꽃|식물           8\n",
       "악기|타악기         8\n",
       "플로럴|어레인지먼트     7\n",
       "계절별|발렌타인       7\n",
       "야외|낚시          7\n",
       "악기|키           7\n",
       "신발|샌들          7\n",
       "전자제품|카메라       7\n",
       "식료품|고기         6\n",
       "가구|옷장          6\n",
       "뷰티|그루밍         4\n",
       "Name: count, dtype: int64"
      ]
     },
     "execution_count": 114,
     "metadata": {},
     "output_type": "execute_result"
    }
   ],
   "source": [
    "df.result.value_counts()"
   ]
  },
  {
   "cell_type": "code",
   "execution_count": 115,
   "id": "8d8c381e",
   "metadata": {},
   "outputs": [
    {
     "data": {
      "text/html": [
       "<div>\n",
       "<style scoped>\n",
       "    .dataframe tbody tr th:only-of-type {\n",
       "        vertical-align: middle;\n",
       "    }\n",
       "\n",
       "    .dataframe tbody tr th {\n",
       "        vertical-align: top;\n",
       "    }\n",
       "\n",
       "    .dataframe thead th {\n",
       "        text-align: right;\n",
       "    }\n",
       "</style>\n",
       "<table border=\"1\" class=\"dataframe\">\n",
       "  <thead>\n",
       "    <tr style=\"text-align: right;\">\n",
       "      <th></th>\n",
       "      <th>Unnamed: 0</th>\n",
       "      <th>product</th>\n",
       "      <th>input</th>\n",
       "      <th>intent</th>\n",
       "      <th>result</th>\n",
       "    </tr>\n",
       "  </thead>\n",
       "  <tbody>\n",
       "  </tbody>\n",
       "</table>\n",
       "</div>"
      ],
      "text/plain": [
       "Empty DataFrame\n",
       "Columns: [Unnamed: 0, product, input, intent, result]\n",
       "Index: []"
      ]
     },
     "execution_count": 115,
     "metadata": {},
     "output_type": "execute_result"
    }
   ],
   "source": [
    "df[df.result == \"No Result\"]"
   ]
  },
  {
   "cell_type": "markdown",
   "id": "c0b53fec-2d80-4ef7-a606-43b7a1b6e952",
   "metadata": {
    "tags": []
   },
   "source": [
    "# 6. Semantic Search\n",
    "- query 를 제공해서 실제로 유사한 내용이 검색이 되는지를 확인 합니다."
   ]
  },
  {
   "cell_type": "code",
   "execution_count": 138,
   "id": "dd17bb4f",
   "metadata": {},
   "outputs": [
    {
     "name": "stdout",
     "output_type": "stream",
     "text": [
      "##############################\n",
      "parallel way:  True\n",
      "search method:  semantic\n",
      "##############################\n",
      "../data/retail_demo_store/output/aws_opensearch_result02.csv is saved\n"
     ]
    }
   ],
   "source": [
    "output_file_path = os.path.join(dataset_folder, \"output/aws_opensearch_result02.csv\" )    \n",
    "evaluate_search_methods(output_file_path=output_file_path, \n",
    "                        parallel = True,\n",
    "                        num_process = 30,\n",
    "                        num_eval = 1200, # how many samples to run                        \n",
    "                        search_method='semantic', \n",
    "                        eval_df = dfv, \n",
    "                        vector_db = vector_db,\n",
    "                        single_num_result = 3,\n",
    "                        hybrid_num_result = 1,\n",
    "                        index_name = index_name,\n",
    "                        os_client = os_client,\n",
    "                        minimum_should_match = 50,\n",
    "                        ensemble_weights = [0.50, 0.50],\n",
    "                        verbose= False )\n"
   ]
  },
  {
   "cell_type": "code",
   "execution_count": 117,
   "id": "6bf45c12",
   "metadata": {},
   "outputs": [
    {
     "data": {
      "text/html": [
       "<div>\n",
       "<style scoped>\n",
       "    .dataframe tbody tr th:only-of-type {\n",
       "        vertical-align: middle;\n",
       "    }\n",
       "\n",
       "    .dataframe tbody tr th {\n",
       "        vertical-align: top;\n",
       "    }\n",
       "\n",
       "    .dataframe thead th {\n",
       "        text-align: right;\n",
       "    }\n",
       "</style>\n",
       "<table border=\"1\" class=\"dataframe\">\n",
       "  <thead>\n",
       "    <tr style=\"text-align: right;\">\n",
       "      <th></th>\n",
       "      <th>Unnamed: 0</th>\n",
       "      <th>product</th>\n",
       "      <th>input</th>\n",
       "      <th>intent</th>\n",
       "      <th>result</th>\n",
       "    </tr>\n",
       "  </thead>\n",
       "  <tbody>\n",
       "    <tr>\n",
       "      <th>0</th>\n",
       "      <td>0</td>\n",
       "      <td>블랙 슈즈</td>\n",
       "      <td>남성용 블랙 포멀 슈즈 한 켤레</td>\n",
       "      <td>신발|정장</td>\n",
       "      <td>신발|정장</td>\n",
       "    </tr>\n",
       "    <tr>\n",
       "      <th>1</th>\n",
       "      <td>1</td>\n",
       "      <td>스틸 가위</td>\n",
       "      <td>모든 욕실에 사용할 수 있는 면도기</td>\n",
       "      <td>뷰티|그루밍</td>\n",
       "      <td>뷰티|그루밍</td>\n",
       "    </tr>\n",
       "    <tr>\n",
       "      <th>2</th>\n",
       "      <td>2</td>\n",
       "      <td>백합 어레인지먼트</td>\n",
       "      <td>우리 재배자들이 신선하고 활기차게 배달한 백합 어레인지먼트</td>\n",
       "      <td>플로럴|어레인지먼트</td>\n",
       "      <td>플로럴|어레인지먼트</td>\n",
       "    </tr>\n",
       "    <tr>\n",
       "      <th>3</th>\n",
       "      <td>3</td>\n",
       "      <td>어쿠스틱 드럼</td>\n",
       "      <td>이 어쿠스틱 드럼은 아마추어 및 전문 뮤지션에게 적합합니다.</td>\n",
       "      <td>악기|타악기</td>\n",
       "      <td>악기|타악기</td>\n",
       "    </tr>\n",
       "    <tr>\n",
       "      <th>4</th>\n",
       "      <td>4</td>\n",
       "      <td>어쿠스틱 베이스</td>\n",
       "      <td>이 어쿠스틱 베이스는 아마추어 및 전문 음악가에게 적합합니다.</td>\n",
       "      <td>악기 | 현악기</td>\n",
       "      <td>악기 | 현악기</td>\n",
       "    </tr>\n",
       "    <tr>\n",
       "      <th>...</th>\n",
       "      <td>...</td>\n",
       "      <td>...</td>\n",
       "      <td>...</td>\n",
       "      <td>...</td>\n",
       "      <td>...</td>\n",
       "    </tr>\n",
       "    <tr>\n",
       "      <th>370</th>\n",
       "      <td>370</td>\n",
       "      <td>돼지고기</td>\n",
       "      <td>우리 돼지고기는 농부들이 지속 가능한 방식으로 사육합니다.</td>\n",
       "      <td>식료품|고기</td>\n",
       "      <td>식료품|고기</td>\n",
       "    </tr>\n",
       "    <tr>\n",
       "      <th>371</th>\n",
       "      <td>371</td>\n",
       "      <td>울트라시크 스카프</td>\n",
       "      <td>어떤 상황에도 어울리는 여성용 울트라시크 스카프</td>\n",
       "      <td>의류|스카프</td>\n",
       "      <td>의류|스카프</td>\n",
       "    </tr>\n",
       "    <tr>\n",
       "      <th>372</th>\n",
       "      <td>372</td>\n",
       "      <td>고급스러운 세라믹 볼</td>\n",
       "      <td>모든 상황에 어울리는 고급스러운 세라믹 그릇</td>\n",
       "      <td>가정용품|그릇</td>\n",
       "      <td>가정용품|그릇</td>\n",
       "    </tr>\n",
       "    <tr>\n",
       "      <th>373</th>\n",
       "      <td>373</td>\n",
       "      <td>새들 브라운 핸드백</td>\n",
       "      <td>이 새들 브라운 드레시 핸드백은 전형적인 필수품입니다</td>\n",
       "      <td>액세서리|핸드백</td>\n",
       "      <td>액세서리|핸드백</td>\n",
       "    </tr>\n",
       "    <tr>\n",
       "      <th>374</th>\n",
       "      <td>374</td>\n",
       "      <td>스틸 블루 스퀘어 쿠션</td>\n",
       "      <td>이 스틸 블루 스퀘어 쿠션은 집에 꼭 있어야 할 필수품입니다.</td>\n",
       "      <td>홈 데코 | 쿠션</td>\n",
       "      <td>홈 데코 | 쿠션</td>\n",
       "    </tr>\n",
       "  </tbody>\n",
       "</table>\n",
       "<p>375 rows × 5 columns</p>\n",
       "</div>"
      ],
      "text/plain": [
       "     Unnamed: 0       product                               input      intent  \\\n",
       "0             0         블랙 슈즈                   남성용 블랙 포멀 슈즈 한 켤레       신발|정장   \n",
       "1             1         스틸 가위                 모든 욕실에 사용할 수 있는 면도기      뷰티|그루밍   \n",
       "2             2     백합 어레인지먼트    우리 재배자들이 신선하고 활기차게 배달한 백합 어레인지먼트  플로럴|어레인지먼트   \n",
       "3             3       어쿠스틱 드럼   이 어쿠스틱 드럼은 아마추어 및 전문 뮤지션에게 적합합니다.      악기|타악기   \n",
       "4             4      어쿠스틱 베이스  이 어쿠스틱 베이스는 아마추어 및 전문 음악가에게 적합합니다.    악기 | 현악기   \n",
       "..          ...           ...                                 ...         ...   \n",
       "370         370          돼지고기    우리 돼지고기는 농부들이 지속 가능한 방식으로 사육합니다.      식료품|고기   \n",
       "371         371     울트라시크 스카프          어떤 상황에도 어울리는 여성용 울트라시크 스카프      의류|스카프   \n",
       "372         372   고급스러운 세라믹 볼            모든 상황에 어울리는 고급스러운 세라믹 그릇     가정용품|그릇   \n",
       "373         373    새들 브라운 핸드백       이 새들 브라운 드레시 핸드백은 전형적인 필수품입니다    액세서리|핸드백   \n",
       "374         374  스틸 블루 스퀘어 쿠션  이 스틸 블루 스퀘어 쿠션은 집에 꼭 있어야 할 필수품입니다.   홈 데코 | 쿠션   \n",
       "\n",
       "         result  \n",
       "0         신발|정장  \n",
       "1        뷰티|그루밍  \n",
       "2    플로럴|어레인지먼트  \n",
       "3        악기|타악기  \n",
       "4      악기 | 현악기  \n",
       "..          ...  \n",
       "370      식료품|고기  \n",
       "371      의류|스카프  \n",
       "372     가정용품|그릇  \n",
       "373    액세서리|핸드백  \n",
       "374   홈 데코 | 쿠션  \n",
       "\n",
       "[375 rows x 5 columns]"
      ]
     },
     "execution_count": 117,
     "metadata": {},
     "output_type": "execute_result"
    }
   ],
   "source": [
    "df = pd.read_csv(output_file_path)\n",
    "df"
   ]
  },
  {
   "cell_type": "code",
   "execution_count": 118,
   "id": "873bfe96",
   "metadata": {},
   "outputs": [
    {
     "data": {
      "text/plain": [
       "result\n",
       "가정용품|주방       32\n",
       "계절|크리스마스      19\n",
       "가구|의자         18\n",
       "가구|테이블        17\n",
       "의류|재킷         16\n",
       "신발|정장         16\n",
       "의류|스카프        14\n",
       "액세서리|안경       13\n",
       "가정 장식 | 장식    13\n",
       "가구|소파         12\n",
       "의류|셔츠         12\n",
       "악기 | 현악기      12\n",
       "홈 데코 | 조명     11\n",
       "가정용품|그릇       11\n",
       "식료품|베이커리      11\n",
       "액세서리|배낭       10\n",
       "액세서리|핸드백       9\n",
       "신발|스니커즈        9\n",
       "홈 데코 | 쿠션      9\n",
       "계절별|할로윈        9\n",
       "액세서리|벨트        8\n",
       "식료품|야채         8\n",
       "계절|부활절         8\n",
       "악기|타악기         8\n",
       "꽃|식물           8\n",
       "악기|키           7\n",
       "플로럴|어레인지먼트     7\n",
       "계절별|발렌타인       7\n",
       "야외|낚시          7\n",
       "전자제품|카메라       7\n",
       "신발|샌들          6\n",
       "가구|옷장          6\n",
       "식료품|고기         6\n",
       "보석|팔찌          5\n",
       "뷰티|그루밍         4\n",
       "Name: count, dtype: int64"
      ]
     },
     "execution_count": 118,
     "metadata": {},
     "output_type": "execute_result"
    }
   ],
   "source": [
    "df.result.value_counts()"
   ]
  },
  {
   "cell_type": "markdown",
   "id": "bd0bfbf9-8e8d-42a5-b8cf-1ecf793105c8",
   "metadata": {},
   "source": [
    "# 7. Hybrid Search"
   ]
  },
  {
   "cell_type": "code",
   "execution_count": 137,
   "id": "4f8d6f22",
   "metadata": {},
   "outputs": [
    {
     "name": "stdout",
     "output_type": "stream",
     "text": [
      "##############################\n",
      "parallel way:  True\n",
      "search method:  hybrid\n",
      "##############################\n",
      "../data/retail_demo_store/output/aws_opensearch_result03.csv is saved\n"
     ]
    }
   ],
   "source": [
    "output_file_path = os.path.join(dataset_folder, \"output/aws_opensearch_result03.csv\" )    \n",
    "evaluate_search_methods(output_file_path=output_file_path, \n",
    "                        parallel = True,\n",
    "                        num_process = 30,\n",
    "                        num_eval = 1200, # how many samples to run, now max is 1200                        \n",
    "                        search_method='hybrid', \n",
    "                        eval_df = dfv, \n",
    "                        vector_db = vector_db,\n",
    "                        single_num_result = 10,\n",
    "                        hybrid_num_result = 1,\n",
    "                        index_name = index_name,\n",
    "                        os_client = os_client,\n",
    "                        minimum_should_match = 50,\n",
    "                        ensemble_weights = [0.5, 0.5], # the first arg: semantic, second arg : lexical\n",
    "                        verbose= False )\n"
   ]
  },
  {
   "cell_type": "code",
   "execution_count": 127,
   "id": "21f73da2",
   "metadata": {},
   "outputs": [
    {
     "data": {
      "text/html": [
       "<div>\n",
       "<style scoped>\n",
       "    .dataframe tbody tr th:only-of-type {\n",
       "        vertical-align: middle;\n",
       "    }\n",
       "\n",
       "    .dataframe tbody tr th {\n",
       "        vertical-align: top;\n",
       "    }\n",
       "\n",
       "    .dataframe thead th {\n",
       "        text-align: right;\n",
       "    }\n",
       "</style>\n",
       "<table border=\"1\" class=\"dataframe\">\n",
       "  <thead>\n",
       "    <tr style=\"text-align: right;\">\n",
       "      <th></th>\n",
       "      <th>Unnamed: 0</th>\n",
       "      <th>product</th>\n",
       "      <th>input</th>\n",
       "      <th>intent</th>\n",
       "      <th>result</th>\n",
       "    </tr>\n",
       "  </thead>\n",
       "  <tbody>\n",
       "    <tr>\n",
       "      <th>0</th>\n",
       "      <td>0</td>\n",
       "      <td>블랙 슈즈</td>\n",
       "      <td>남성용 블랙 포멀 슈즈 한 켤레</td>\n",
       "      <td>신발|정장</td>\n",
       "      <td>신발|정장</td>\n",
       "    </tr>\n",
       "    <tr>\n",
       "      <th>1</th>\n",
       "      <td>1</td>\n",
       "      <td>스틸 가위</td>\n",
       "      <td>모든 욕실에 사용할 수 있는 면도기</td>\n",
       "      <td>뷰티|그루밍</td>\n",
       "      <td>뷰티|그루밍</td>\n",
       "    </tr>\n",
       "    <tr>\n",
       "      <th>2</th>\n",
       "      <td>2</td>\n",
       "      <td>백합 어레인지먼트</td>\n",
       "      <td>우리 재배자들이 신선하고 활기차게 배달한 백합 어레인지먼트</td>\n",
       "      <td>플로럴|어레인지먼트</td>\n",
       "      <td>플로럴|어레인지먼트</td>\n",
       "    </tr>\n",
       "    <tr>\n",
       "      <th>3</th>\n",
       "      <td>3</td>\n",
       "      <td>어쿠스틱 드럼</td>\n",
       "      <td>이 어쿠스틱 드럼은 아마추어 및 전문 뮤지션에게 적합합니다.</td>\n",
       "      <td>악기|타악기</td>\n",
       "      <td>악기|타악기</td>\n",
       "    </tr>\n",
       "    <tr>\n",
       "      <th>4</th>\n",
       "      <td>4</td>\n",
       "      <td>어쿠스틱 베이스</td>\n",
       "      <td>이 어쿠스틱 베이스는 아마추어 및 전문 음악가에게 적합합니다.</td>\n",
       "      <td>악기 | 현악기</td>\n",
       "      <td>악기 | 현악기</td>\n",
       "    </tr>\n",
       "    <tr>\n",
       "      <th>...</th>\n",
       "      <td>...</td>\n",
       "      <td>...</td>\n",
       "      <td>...</td>\n",
       "      <td>...</td>\n",
       "      <td>...</td>\n",
       "    </tr>\n",
       "    <tr>\n",
       "      <th>370</th>\n",
       "      <td>370</td>\n",
       "      <td>돼지고기</td>\n",
       "      <td>우리 돼지고기는 농부들이 지속 가능한 방식으로 사육합니다.</td>\n",
       "      <td>식료품|고기</td>\n",
       "      <td>식료품|고기</td>\n",
       "    </tr>\n",
       "    <tr>\n",
       "      <th>371</th>\n",
       "      <td>371</td>\n",
       "      <td>울트라시크 스카프</td>\n",
       "      <td>어떤 상황에도 어울리는 여성용 울트라시크 스카프</td>\n",
       "      <td>의류|스카프</td>\n",
       "      <td>의류|스카프</td>\n",
       "    </tr>\n",
       "    <tr>\n",
       "      <th>372</th>\n",
       "      <td>372</td>\n",
       "      <td>고급스러운 세라믹 볼</td>\n",
       "      <td>모든 상황에 어울리는 고급스러운 세라믹 그릇</td>\n",
       "      <td>가정용품|그릇</td>\n",
       "      <td>가정용품|그릇</td>\n",
       "    </tr>\n",
       "    <tr>\n",
       "      <th>373</th>\n",
       "      <td>373</td>\n",
       "      <td>새들 브라운 핸드백</td>\n",
       "      <td>이 새들 브라운 드레시 핸드백은 전형적인 필수품입니다</td>\n",
       "      <td>액세서리|핸드백</td>\n",
       "      <td>액세서리|핸드백</td>\n",
       "    </tr>\n",
       "    <tr>\n",
       "      <th>374</th>\n",
       "      <td>374</td>\n",
       "      <td>스틸 블루 스퀘어 쿠션</td>\n",
       "      <td>이 스틸 블루 스퀘어 쿠션은 집에 꼭 있어야 할 필수품입니다.</td>\n",
       "      <td>홈 데코 | 쿠션</td>\n",
       "      <td>홈 데코 | 쿠션</td>\n",
       "    </tr>\n",
       "  </tbody>\n",
       "</table>\n",
       "<p>375 rows × 5 columns</p>\n",
       "</div>"
      ],
      "text/plain": [
       "     Unnamed: 0       product                               input      intent  \\\n",
       "0             0         블랙 슈즈                   남성용 블랙 포멀 슈즈 한 켤레       신발|정장   \n",
       "1             1         스틸 가위                 모든 욕실에 사용할 수 있는 면도기      뷰티|그루밍   \n",
       "2             2     백합 어레인지먼트    우리 재배자들이 신선하고 활기차게 배달한 백합 어레인지먼트  플로럴|어레인지먼트   \n",
       "3             3       어쿠스틱 드럼   이 어쿠스틱 드럼은 아마추어 및 전문 뮤지션에게 적합합니다.      악기|타악기   \n",
       "4             4      어쿠스틱 베이스  이 어쿠스틱 베이스는 아마추어 및 전문 음악가에게 적합합니다.    악기 | 현악기   \n",
       "..          ...           ...                                 ...         ...   \n",
       "370         370          돼지고기    우리 돼지고기는 농부들이 지속 가능한 방식으로 사육합니다.      식료품|고기   \n",
       "371         371     울트라시크 스카프          어떤 상황에도 어울리는 여성용 울트라시크 스카프      의류|스카프   \n",
       "372         372   고급스러운 세라믹 볼            모든 상황에 어울리는 고급스러운 세라믹 그릇     가정용품|그릇   \n",
       "373         373    새들 브라운 핸드백       이 새들 브라운 드레시 핸드백은 전형적인 필수품입니다    액세서리|핸드백   \n",
       "374         374  스틸 블루 스퀘어 쿠션  이 스틸 블루 스퀘어 쿠션은 집에 꼭 있어야 할 필수품입니다.   홈 데코 | 쿠션   \n",
       "\n",
       "         result  \n",
       "0         신발|정장  \n",
       "1        뷰티|그루밍  \n",
       "2    플로럴|어레인지먼트  \n",
       "3        악기|타악기  \n",
       "4      악기 | 현악기  \n",
       "..          ...  \n",
       "370      식료품|고기  \n",
       "371      의류|스카프  \n",
       "372     가정용품|그릇  \n",
       "373    액세서리|핸드백  \n",
       "374   홈 데코 | 쿠션  \n",
       "\n",
       "[375 rows x 5 columns]"
      ]
     },
     "execution_count": 127,
     "metadata": {},
     "output_type": "execute_result"
    }
   ],
   "source": [
    "df = pd.read_csv(output_file_path)\n",
    "df"
   ]
  },
  {
   "cell_type": "code",
   "execution_count": 128,
   "id": "1c927bbf",
   "metadata": {},
   "outputs": [
    {
     "data": {
      "text/plain": [
       "result\n",
       "가정용품|주방       33\n",
       "계절|크리스마스      19\n",
       "가구|테이블        19\n",
       "가구|의자         16\n",
       "의류|재킷         16\n",
       "신발|정장         16\n",
       "가정 장식 | 장식    13\n",
       "의류|스카프        12\n",
       "의류|셔츠         12\n",
       "악기 | 현악기      12\n",
       "액세서리|안경       12\n",
       "가정용품|그릇       11\n",
       "가구|소파         11\n",
       "식료품|베이커리      11\n",
       "홈 데코 | 조명     11\n",
       "액세서리|배낭       10\n",
       "신발|스니커즈       10\n",
       "홈 데코 | 쿠션      9\n",
       "계절별|할로윈        9\n",
       "액세서리|핸드백       8\n",
       "액세서리|벨트        8\n",
       "악기|타악기         8\n",
       "계절|부활절         8\n",
       "식료품|야채         8\n",
       "꽃|식물           8\n",
       "보석|팔찌          8\n",
       "플로럴|어레인지먼트     7\n",
       "계절별|발렌타인       7\n",
       "야외|낚시          7\n",
       "악기|키           7\n",
       "전자제품|카메라       7\n",
       "신발|샌들          6\n",
       "식료품|고기         6\n",
       "가구|옷장          6\n",
       "뷰티|그루밍         4\n",
       "Name: count, dtype: int64"
      ]
     },
     "execution_count": 128,
     "metadata": {},
     "output_type": "execute_result"
    }
   ],
   "source": [
    "df.result.value_counts()"
   ]
  },
  {
   "cell_type": "markdown",
   "id": "3141fcd8",
   "metadata": {},
   "source": [
    "# 8. Hybrid + Reranker"
   ]
  },
  {
   "cell_type": "code",
   "execution_count": 129,
   "id": "93b604ec",
   "metadata": {},
   "outputs": [
    {
     "name": "stdout",
     "output_type": "stream",
     "text": [
      "reranker_endpoint_name:  Ko-Reranker-2024-02-12-06-58-12\n"
     ]
    }
   ],
   "source": [
    "%store -r reranker_endpoint_name\n",
    "print(\"reranker_endpoint_name: \", reranker_endpoint_name)\n"
   ]
  },
  {
   "cell_type": "code",
   "execution_count": 135,
   "id": "64d94228",
   "metadata": {},
   "outputs": [
    {
     "name": "stdout",
     "output_type": "stream",
     "text": [
      "##############################\n",
      "parallel way:  True\n",
      "search method:  reranker\n",
      "##############################\n",
      "../data/retail_demo_store/output/aws_opensearch_result04.csv is saved\n"
     ]
    }
   ],
   "source": [
    "output_file_path = os.path.join(dataset_folder, \"output/aws_opensearch_result04.csv\" )\n",
    "evaluate_search_methods(output_file_path=output_file_path, \n",
    "                        parallel = True, # False: single process, True: parallel ways\n",
    "                        num_process = 30,\n",
    "                        num_eval = 1200, # how many samples to run, now max is 1200                        \n",
    "                        search_method='reranker', \n",
    "                        eval_df = dfv, \n",
    "                        vector_db = vector_db,\n",
    "                        single_num_result = 5,\n",
    "                        hybrid_num_result = 5,\n",
    "                        index_name = index_name,\n",
    "                        os_client = os_client,\n",
    "                        minimum_should_match = 10,\n",
    "                        ensemble_weights = [0.50, 0.50], # the first argument is semantic and the second one is lexical\n",
    "                        reranker_endpoint_name = reranker_endpoint_name,\n",
    "                        verbose= False )\n",
    "\n",
    "\n"
   ]
  },
  {
   "cell_type": "code",
   "execution_count": 133,
   "id": "b76f9f92",
   "metadata": {},
   "outputs": [
    {
     "data": {
      "text/html": [
       "<div>\n",
       "<style scoped>\n",
       "    .dataframe tbody tr th:only-of-type {\n",
       "        vertical-align: middle;\n",
       "    }\n",
       "\n",
       "    .dataframe tbody tr th {\n",
       "        vertical-align: top;\n",
       "    }\n",
       "\n",
       "    .dataframe thead th {\n",
       "        text-align: right;\n",
       "    }\n",
       "</style>\n",
       "<table border=\"1\" class=\"dataframe\">\n",
       "  <thead>\n",
       "    <tr style=\"text-align: right;\">\n",
       "      <th></th>\n",
       "      <th>Unnamed: 0</th>\n",
       "      <th>product</th>\n",
       "      <th>input</th>\n",
       "      <th>intent</th>\n",
       "      <th>result</th>\n",
       "    </tr>\n",
       "  </thead>\n",
       "  <tbody>\n",
       "    <tr>\n",
       "      <th>0</th>\n",
       "      <td>0</td>\n",
       "      <td>블랙 슈즈</td>\n",
       "      <td>남성용 블랙 포멀 슈즈 한 켤레</td>\n",
       "      <td>신발|정장</td>\n",
       "      <td>신발|정장</td>\n",
       "    </tr>\n",
       "    <tr>\n",
       "      <th>1</th>\n",
       "      <td>1</td>\n",
       "      <td>스틸 가위</td>\n",
       "      <td>모든 욕실에 사용할 수 있는 면도기</td>\n",
       "      <td>뷰티|그루밍</td>\n",
       "      <td>뷰티|그루밍</td>\n",
       "    </tr>\n",
       "    <tr>\n",
       "      <th>2</th>\n",
       "      <td>2</td>\n",
       "      <td>백합 어레인지먼트</td>\n",
       "      <td>우리 재배자들이 신선하고 활기차게 배달한 백합 어레인지먼트</td>\n",
       "      <td>플로럴|어레인지먼트</td>\n",
       "      <td>플로럴|어레인지먼트</td>\n",
       "    </tr>\n",
       "    <tr>\n",
       "      <th>3</th>\n",
       "      <td>3</td>\n",
       "      <td>어쿠스틱 드럼</td>\n",
       "      <td>이 어쿠스틱 드럼은 아마추어 및 전문 뮤지션에게 적합합니다.</td>\n",
       "      <td>악기|타악기</td>\n",
       "      <td>악기|타악기</td>\n",
       "    </tr>\n",
       "    <tr>\n",
       "      <th>4</th>\n",
       "      <td>4</td>\n",
       "      <td>어쿠스틱 베이스</td>\n",
       "      <td>이 어쿠스틱 베이스는 아마추어 및 전문 음악가에게 적합합니다.</td>\n",
       "      <td>악기 | 현악기</td>\n",
       "      <td>악기 | 현악기</td>\n",
       "    </tr>\n",
       "    <tr>\n",
       "      <th>...</th>\n",
       "      <td>...</td>\n",
       "      <td>...</td>\n",
       "      <td>...</td>\n",
       "      <td>...</td>\n",
       "      <td>...</td>\n",
       "    </tr>\n",
       "    <tr>\n",
       "      <th>370</th>\n",
       "      <td>370</td>\n",
       "      <td>돼지고기</td>\n",
       "      <td>우리 돼지고기는 농부들이 지속 가능한 방식으로 사육합니다.</td>\n",
       "      <td>식료품|고기</td>\n",
       "      <td>식료품|고기</td>\n",
       "    </tr>\n",
       "    <tr>\n",
       "      <th>371</th>\n",
       "      <td>371</td>\n",
       "      <td>울트라시크 스카프</td>\n",
       "      <td>어떤 상황에도 어울리는 여성용 울트라시크 스카프</td>\n",
       "      <td>의류|스카프</td>\n",
       "      <td>의류|스카프</td>\n",
       "    </tr>\n",
       "    <tr>\n",
       "      <th>372</th>\n",
       "      <td>372</td>\n",
       "      <td>고급스러운 세라믹 볼</td>\n",
       "      <td>모든 상황에 어울리는 고급스러운 세라믹 그릇</td>\n",
       "      <td>가정용품|그릇</td>\n",
       "      <td>가정용품|그릇</td>\n",
       "    </tr>\n",
       "    <tr>\n",
       "      <th>373</th>\n",
       "      <td>373</td>\n",
       "      <td>새들 브라운 핸드백</td>\n",
       "      <td>이 새들 브라운 드레시 핸드백은 전형적인 필수품입니다</td>\n",
       "      <td>액세서리|핸드백</td>\n",
       "      <td>액세서리|핸드백</td>\n",
       "    </tr>\n",
       "    <tr>\n",
       "      <th>374</th>\n",
       "      <td>374</td>\n",
       "      <td>스틸 블루 스퀘어 쿠션</td>\n",
       "      <td>이 스틸 블루 스퀘어 쿠션은 집에 꼭 있어야 할 필수품입니다.</td>\n",
       "      <td>홈 데코 | 쿠션</td>\n",
       "      <td>홈 데코 | 쿠션</td>\n",
       "    </tr>\n",
       "  </tbody>\n",
       "</table>\n",
       "<p>375 rows × 5 columns</p>\n",
       "</div>"
      ],
      "text/plain": [
       "     Unnamed: 0       product                               input      intent  \\\n",
       "0             0         블랙 슈즈                   남성용 블랙 포멀 슈즈 한 켤레       신발|정장   \n",
       "1             1         스틸 가위                 모든 욕실에 사용할 수 있는 면도기      뷰티|그루밍   \n",
       "2             2     백합 어레인지먼트    우리 재배자들이 신선하고 활기차게 배달한 백합 어레인지먼트  플로럴|어레인지먼트   \n",
       "3             3       어쿠스틱 드럼   이 어쿠스틱 드럼은 아마추어 및 전문 뮤지션에게 적합합니다.      악기|타악기   \n",
       "4             4      어쿠스틱 베이스  이 어쿠스틱 베이스는 아마추어 및 전문 음악가에게 적합합니다.    악기 | 현악기   \n",
       "..          ...           ...                                 ...         ...   \n",
       "370         370          돼지고기    우리 돼지고기는 농부들이 지속 가능한 방식으로 사육합니다.      식료품|고기   \n",
       "371         371     울트라시크 스카프          어떤 상황에도 어울리는 여성용 울트라시크 스카프      의류|스카프   \n",
       "372         372   고급스러운 세라믹 볼            모든 상황에 어울리는 고급스러운 세라믹 그릇     가정용품|그릇   \n",
       "373         373    새들 브라운 핸드백       이 새들 브라운 드레시 핸드백은 전형적인 필수품입니다    액세서리|핸드백   \n",
       "374         374  스틸 블루 스퀘어 쿠션  이 스틸 블루 스퀘어 쿠션은 집에 꼭 있어야 할 필수품입니다.   홈 데코 | 쿠션   \n",
       "\n",
       "         result  \n",
       "0         신발|정장  \n",
       "1        뷰티|그루밍  \n",
       "2    플로럴|어레인지먼트  \n",
       "3        악기|타악기  \n",
       "4      악기 | 현악기  \n",
       "..          ...  \n",
       "370      식료품|고기  \n",
       "371      의류|스카프  \n",
       "372     가정용품|그릇  \n",
       "373    액세서리|핸드백  \n",
       "374   홈 데코 | 쿠션  \n",
       "\n",
       "[375 rows x 5 columns]"
      ]
     },
     "execution_count": 133,
     "metadata": {},
     "output_type": "execute_result"
    }
   ],
   "source": [
    "df = pd.read_csv(output_file_path)\n",
    "df"
   ]
  },
  {
   "cell_type": "code",
   "execution_count": 134,
   "id": "f06a3219",
   "metadata": {},
   "outputs": [
    {
     "data": {
      "text/plain": [
       "result\n",
       "가정용품|주방       32\n",
       "계절|크리스마스      19\n",
       "가구|테이블        18\n",
       "가구|의자         17\n",
       "의류|재킷         16\n",
       "신발|정장         16\n",
       "액세서리|안경       14\n",
       "의류|셔츠         13\n",
       "가정 장식 | 장식    13\n",
       "악기 | 현악기      12\n",
       "의류|스카프        11\n",
       "가정용품|그릇       11\n",
       "홈 데코 | 조명     11\n",
       "식료품|베이커리      11\n",
       "가구|소파         10\n",
       "홈 데코 | 쿠션     10\n",
       "액세서리|배낭       10\n",
       "신발|스니커즈        9\n",
       "계절별|할로윈        9\n",
       "계절별|발렌타인       8\n",
       "액세서리|벨트        8\n",
       "악기|타악기         8\n",
       "계절|부활절         8\n",
       "식료품|야채         8\n",
       "꽃|식물           8\n",
       "악기|키           7\n",
       "플로럴|어레인지먼트     7\n",
       "액세서리|핸드백       7\n",
       "야외|낚시          7\n",
       "전자제품|카메라       7\n",
       "뷰티|그루밍         6\n",
       "보석|팔찌          6\n",
       "식료품|고기         6\n",
       "신발|샌들          6\n",
       "가구|옷장          6\n",
       "Name: count, dtype: int64"
      ]
     },
     "execution_count": 134,
     "metadata": {},
     "output_type": "execute_result"
    }
   ],
   "source": [
    "df.result.value_counts()"
   ]
  },
  {
   "cell_type": "code",
   "execution_count": null,
   "id": "9f67175a",
   "metadata": {},
   "outputs": [],
   "source": []
  },
  {
   "cell_type": "code",
   "execution_count": null,
   "id": "cd28dfc7",
   "metadata": {},
   "outputs": [],
   "source": []
  }
 ],
 "metadata": {
  "availableInstances": [
   {
    "_defaultOrder": 0,
    "_isFastLaunch": true,
    "category": "General purpose",
    "gpuNum": 0,
    "hideHardwareSpecs": false,
    "memoryGiB": 4,
    "name": "ml.t3.medium",
    "vcpuNum": 2
   },
   {
    "_defaultOrder": 1,
    "_isFastLaunch": false,
    "category": "General purpose",
    "gpuNum": 0,
    "hideHardwareSpecs": false,
    "memoryGiB": 8,
    "name": "ml.t3.large",
    "vcpuNum": 2
   },
   {
    "_defaultOrder": 2,
    "_isFastLaunch": false,
    "category": "General purpose",
    "gpuNum": 0,
    "hideHardwareSpecs": false,
    "memoryGiB": 16,
    "name": "ml.t3.xlarge",
    "vcpuNum": 4
   },
   {
    "_defaultOrder": 3,
    "_isFastLaunch": false,
    "category": "General purpose",
    "gpuNum": 0,
    "hideHardwareSpecs": false,
    "memoryGiB": 32,
    "name": "ml.t3.2xlarge",
    "vcpuNum": 8
   },
   {
    "_defaultOrder": 4,
    "_isFastLaunch": true,
    "category": "General purpose",
    "gpuNum": 0,
    "hideHardwareSpecs": false,
    "memoryGiB": 8,
    "name": "ml.m5.large",
    "vcpuNum": 2
   },
   {
    "_defaultOrder": 5,
    "_isFastLaunch": false,
    "category": "General purpose",
    "gpuNum": 0,
    "hideHardwareSpecs": false,
    "memoryGiB": 16,
    "name": "ml.m5.xlarge",
    "vcpuNum": 4
   },
   {
    "_defaultOrder": 6,
    "_isFastLaunch": false,
    "category": "General purpose",
    "gpuNum": 0,
    "hideHardwareSpecs": false,
    "memoryGiB": 32,
    "name": "ml.m5.2xlarge",
    "vcpuNum": 8
   },
   {
    "_defaultOrder": 7,
    "_isFastLaunch": false,
    "category": "General purpose",
    "gpuNum": 0,
    "hideHardwareSpecs": false,
    "memoryGiB": 64,
    "name": "ml.m5.4xlarge",
    "vcpuNum": 16
   },
   {
    "_defaultOrder": 8,
    "_isFastLaunch": false,
    "category": "General purpose",
    "gpuNum": 0,
    "hideHardwareSpecs": false,
    "memoryGiB": 128,
    "name": "ml.m5.8xlarge",
    "vcpuNum": 32
   },
   {
    "_defaultOrder": 9,
    "_isFastLaunch": false,
    "category": "General purpose",
    "gpuNum": 0,
    "hideHardwareSpecs": false,
    "memoryGiB": 192,
    "name": "ml.m5.12xlarge",
    "vcpuNum": 48
   },
   {
    "_defaultOrder": 10,
    "_isFastLaunch": false,
    "category": "General purpose",
    "gpuNum": 0,
    "hideHardwareSpecs": false,
    "memoryGiB": 256,
    "name": "ml.m5.16xlarge",
    "vcpuNum": 64
   },
   {
    "_defaultOrder": 11,
    "_isFastLaunch": false,
    "category": "General purpose",
    "gpuNum": 0,
    "hideHardwareSpecs": false,
    "memoryGiB": 384,
    "name": "ml.m5.24xlarge",
    "vcpuNum": 96
   },
   {
    "_defaultOrder": 12,
    "_isFastLaunch": false,
    "category": "General purpose",
    "gpuNum": 0,
    "hideHardwareSpecs": false,
    "memoryGiB": 8,
    "name": "ml.m5d.large",
    "vcpuNum": 2
   },
   {
    "_defaultOrder": 13,
    "_isFastLaunch": false,
    "category": "General purpose",
    "gpuNum": 0,
    "hideHardwareSpecs": false,
    "memoryGiB": 16,
    "name": "ml.m5d.xlarge",
    "vcpuNum": 4
   },
   {
    "_defaultOrder": 14,
    "_isFastLaunch": false,
    "category": "General purpose",
    "gpuNum": 0,
    "hideHardwareSpecs": false,
    "memoryGiB": 32,
    "name": "ml.m5d.2xlarge",
    "vcpuNum": 8
   },
   {
    "_defaultOrder": 15,
    "_isFastLaunch": false,
    "category": "General purpose",
    "gpuNum": 0,
    "hideHardwareSpecs": false,
    "memoryGiB": 64,
    "name": "ml.m5d.4xlarge",
    "vcpuNum": 16
   },
   {
    "_defaultOrder": 16,
    "_isFastLaunch": false,
    "category": "General purpose",
    "gpuNum": 0,
    "hideHardwareSpecs": false,
    "memoryGiB": 128,
    "name": "ml.m5d.8xlarge",
    "vcpuNum": 32
   },
   {
    "_defaultOrder": 17,
    "_isFastLaunch": false,
    "category": "General purpose",
    "gpuNum": 0,
    "hideHardwareSpecs": false,
    "memoryGiB": 192,
    "name": "ml.m5d.12xlarge",
    "vcpuNum": 48
   },
   {
    "_defaultOrder": 18,
    "_isFastLaunch": false,
    "category": "General purpose",
    "gpuNum": 0,
    "hideHardwareSpecs": false,
    "memoryGiB": 256,
    "name": "ml.m5d.16xlarge",
    "vcpuNum": 64
   },
   {
    "_defaultOrder": 19,
    "_isFastLaunch": false,
    "category": "General purpose",
    "gpuNum": 0,
    "hideHardwareSpecs": false,
    "memoryGiB": 384,
    "name": "ml.m5d.24xlarge",
    "vcpuNum": 96
   },
   {
    "_defaultOrder": 20,
    "_isFastLaunch": false,
    "category": "General purpose",
    "gpuNum": 0,
    "hideHardwareSpecs": true,
    "memoryGiB": 0,
    "name": "ml.geospatial.interactive",
    "supportedImageNames": [
     "sagemaker-geospatial-v1-0"
    ],
    "vcpuNum": 0
   },
   {
    "_defaultOrder": 21,
    "_isFastLaunch": true,
    "category": "Compute optimized",
    "gpuNum": 0,
    "hideHardwareSpecs": false,
    "memoryGiB": 4,
    "name": "ml.c5.large",
    "vcpuNum": 2
   },
   {
    "_defaultOrder": 22,
    "_isFastLaunch": false,
    "category": "Compute optimized",
    "gpuNum": 0,
    "hideHardwareSpecs": false,
    "memoryGiB": 8,
    "name": "ml.c5.xlarge",
    "vcpuNum": 4
   },
   {
    "_defaultOrder": 23,
    "_isFastLaunch": false,
    "category": "Compute optimized",
    "gpuNum": 0,
    "hideHardwareSpecs": false,
    "memoryGiB": 16,
    "name": "ml.c5.2xlarge",
    "vcpuNum": 8
   },
   {
    "_defaultOrder": 24,
    "_isFastLaunch": false,
    "category": "Compute optimized",
    "gpuNum": 0,
    "hideHardwareSpecs": false,
    "memoryGiB": 32,
    "name": "ml.c5.4xlarge",
    "vcpuNum": 16
   },
   {
    "_defaultOrder": 25,
    "_isFastLaunch": false,
    "category": "Compute optimized",
    "gpuNum": 0,
    "hideHardwareSpecs": false,
    "memoryGiB": 72,
    "name": "ml.c5.9xlarge",
    "vcpuNum": 36
   },
   {
    "_defaultOrder": 26,
    "_isFastLaunch": false,
    "category": "Compute optimized",
    "gpuNum": 0,
    "hideHardwareSpecs": false,
    "memoryGiB": 96,
    "name": "ml.c5.12xlarge",
    "vcpuNum": 48
   },
   {
    "_defaultOrder": 27,
    "_isFastLaunch": false,
    "category": "Compute optimized",
    "gpuNum": 0,
    "hideHardwareSpecs": false,
    "memoryGiB": 144,
    "name": "ml.c5.18xlarge",
    "vcpuNum": 72
   },
   {
    "_defaultOrder": 28,
    "_isFastLaunch": false,
    "category": "Compute optimized",
    "gpuNum": 0,
    "hideHardwareSpecs": false,
    "memoryGiB": 192,
    "name": "ml.c5.24xlarge",
    "vcpuNum": 96
   },
   {
    "_defaultOrder": 29,
    "_isFastLaunch": true,
    "category": "Accelerated computing",
    "gpuNum": 1,
    "hideHardwareSpecs": false,
    "memoryGiB": 16,
    "name": "ml.g4dn.xlarge",
    "vcpuNum": 4
   },
   {
    "_defaultOrder": 30,
    "_isFastLaunch": false,
    "category": "Accelerated computing",
    "gpuNum": 1,
    "hideHardwareSpecs": false,
    "memoryGiB": 32,
    "name": "ml.g4dn.2xlarge",
    "vcpuNum": 8
   },
   {
    "_defaultOrder": 31,
    "_isFastLaunch": false,
    "category": "Accelerated computing",
    "gpuNum": 1,
    "hideHardwareSpecs": false,
    "memoryGiB": 64,
    "name": "ml.g4dn.4xlarge",
    "vcpuNum": 16
   },
   {
    "_defaultOrder": 32,
    "_isFastLaunch": false,
    "category": "Accelerated computing",
    "gpuNum": 1,
    "hideHardwareSpecs": false,
    "memoryGiB": 128,
    "name": "ml.g4dn.8xlarge",
    "vcpuNum": 32
   },
   {
    "_defaultOrder": 33,
    "_isFastLaunch": false,
    "category": "Accelerated computing",
    "gpuNum": 4,
    "hideHardwareSpecs": false,
    "memoryGiB": 192,
    "name": "ml.g4dn.12xlarge",
    "vcpuNum": 48
   },
   {
    "_defaultOrder": 34,
    "_isFastLaunch": false,
    "category": "Accelerated computing",
    "gpuNum": 1,
    "hideHardwareSpecs": false,
    "memoryGiB": 256,
    "name": "ml.g4dn.16xlarge",
    "vcpuNum": 64
   },
   {
    "_defaultOrder": 35,
    "_isFastLaunch": false,
    "category": "Accelerated computing",
    "gpuNum": 1,
    "hideHardwareSpecs": false,
    "memoryGiB": 61,
    "name": "ml.p3.2xlarge",
    "vcpuNum": 8
   },
   {
    "_defaultOrder": 36,
    "_isFastLaunch": false,
    "category": "Accelerated computing",
    "gpuNum": 4,
    "hideHardwareSpecs": false,
    "memoryGiB": 244,
    "name": "ml.p3.8xlarge",
    "vcpuNum": 32
   },
   {
    "_defaultOrder": 37,
    "_isFastLaunch": false,
    "category": "Accelerated computing",
    "gpuNum": 8,
    "hideHardwareSpecs": false,
    "memoryGiB": 488,
    "name": "ml.p3.16xlarge",
    "vcpuNum": 64
   },
   {
    "_defaultOrder": 38,
    "_isFastLaunch": false,
    "category": "Accelerated computing",
    "gpuNum": 8,
    "hideHardwareSpecs": false,
    "memoryGiB": 768,
    "name": "ml.p3dn.24xlarge",
    "vcpuNum": 96
   },
   {
    "_defaultOrder": 39,
    "_isFastLaunch": false,
    "category": "Memory Optimized",
    "gpuNum": 0,
    "hideHardwareSpecs": false,
    "memoryGiB": 16,
    "name": "ml.r5.large",
    "vcpuNum": 2
   },
   {
    "_defaultOrder": 40,
    "_isFastLaunch": false,
    "category": "Memory Optimized",
    "gpuNum": 0,
    "hideHardwareSpecs": false,
    "memoryGiB": 32,
    "name": "ml.r5.xlarge",
    "vcpuNum": 4
   },
   {
    "_defaultOrder": 41,
    "_isFastLaunch": false,
    "category": "Memory Optimized",
    "gpuNum": 0,
    "hideHardwareSpecs": false,
    "memoryGiB": 64,
    "name": "ml.r5.2xlarge",
    "vcpuNum": 8
   },
   {
    "_defaultOrder": 42,
    "_isFastLaunch": false,
    "category": "Memory Optimized",
    "gpuNum": 0,
    "hideHardwareSpecs": false,
    "memoryGiB": 128,
    "name": "ml.r5.4xlarge",
    "vcpuNum": 16
   },
   {
    "_defaultOrder": 43,
    "_isFastLaunch": false,
    "category": "Memory Optimized",
    "gpuNum": 0,
    "hideHardwareSpecs": false,
    "memoryGiB": 256,
    "name": "ml.r5.8xlarge",
    "vcpuNum": 32
   },
   {
    "_defaultOrder": 44,
    "_isFastLaunch": false,
    "category": "Memory Optimized",
    "gpuNum": 0,
    "hideHardwareSpecs": false,
    "memoryGiB": 384,
    "name": "ml.r5.12xlarge",
    "vcpuNum": 48
   },
   {
    "_defaultOrder": 45,
    "_isFastLaunch": false,
    "category": "Memory Optimized",
    "gpuNum": 0,
    "hideHardwareSpecs": false,
    "memoryGiB": 512,
    "name": "ml.r5.16xlarge",
    "vcpuNum": 64
   },
   {
    "_defaultOrder": 46,
    "_isFastLaunch": false,
    "category": "Memory Optimized",
    "gpuNum": 0,
    "hideHardwareSpecs": false,
    "memoryGiB": 768,
    "name": "ml.r5.24xlarge",
    "vcpuNum": 96
   },
   {
    "_defaultOrder": 47,
    "_isFastLaunch": false,
    "category": "Accelerated computing",
    "gpuNum": 1,
    "hideHardwareSpecs": false,
    "memoryGiB": 16,
    "name": "ml.g5.xlarge",
    "vcpuNum": 4
   },
   {
    "_defaultOrder": 48,
    "_isFastLaunch": false,
    "category": "Accelerated computing",
    "gpuNum": 1,
    "hideHardwareSpecs": false,
    "memoryGiB": 32,
    "name": "ml.g5.2xlarge",
    "vcpuNum": 8
   },
   {
    "_defaultOrder": 49,
    "_isFastLaunch": false,
    "category": "Accelerated computing",
    "gpuNum": 1,
    "hideHardwareSpecs": false,
    "memoryGiB": 64,
    "name": "ml.g5.4xlarge",
    "vcpuNum": 16
   },
   {
    "_defaultOrder": 50,
    "_isFastLaunch": false,
    "category": "Accelerated computing",
    "gpuNum": 1,
    "hideHardwareSpecs": false,
    "memoryGiB": 128,
    "name": "ml.g5.8xlarge",
    "vcpuNum": 32
   },
   {
    "_defaultOrder": 51,
    "_isFastLaunch": false,
    "category": "Accelerated computing",
    "gpuNum": 1,
    "hideHardwareSpecs": false,
    "memoryGiB": 256,
    "name": "ml.g5.16xlarge",
    "vcpuNum": 64
   },
   {
    "_defaultOrder": 52,
    "_isFastLaunch": false,
    "category": "Accelerated computing",
    "gpuNum": 4,
    "hideHardwareSpecs": false,
    "memoryGiB": 192,
    "name": "ml.g5.12xlarge",
    "vcpuNum": 48
   },
   {
    "_defaultOrder": 53,
    "_isFastLaunch": false,
    "category": "Accelerated computing",
    "gpuNum": 4,
    "hideHardwareSpecs": false,
    "memoryGiB": 384,
    "name": "ml.g5.24xlarge",
    "vcpuNum": 96
   },
   {
    "_defaultOrder": 54,
    "_isFastLaunch": false,
    "category": "Accelerated computing",
    "gpuNum": 8,
    "hideHardwareSpecs": false,
    "memoryGiB": 768,
    "name": "ml.g5.48xlarge",
    "vcpuNum": 192
   },
   {
    "_defaultOrder": 55,
    "_isFastLaunch": false,
    "category": "Accelerated computing",
    "gpuNum": 8,
    "hideHardwareSpecs": false,
    "memoryGiB": 1152,
    "name": "ml.p4d.24xlarge",
    "vcpuNum": 96
   },
   {
    "_defaultOrder": 56,
    "_isFastLaunch": false,
    "category": "Accelerated computing",
    "gpuNum": 8,
    "hideHardwareSpecs": false,
    "memoryGiB": 1152,
    "name": "ml.p4de.24xlarge",
    "vcpuNum": 96
   },
   {
    "_defaultOrder": 57,
    "_isFastLaunch": false,
    "category": "Accelerated computing",
    "gpuNum": 0,
    "hideHardwareSpecs": false,
    "memoryGiB": 32,
    "name": "ml.trn1.2xlarge",
    "vcpuNum": 8
   },
   {
    "_defaultOrder": 58,
    "_isFastLaunch": false,
    "category": "Accelerated computing",
    "gpuNum": 0,
    "hideHardwareSpecs": false,
    "memoryGiB": 512,
    "name": "ml.trn1.32xlarge",
    "vcpuNum": 128
   },
   {
    "_defaultOrder": 59,
    "_isFastLaunch": false,
    "category": "Accelerated computing",
    "gpuNum": 0,
    "hideHardwareSpecs": false,
    "memoryGiB": 512,
    "name": "ml.trn1n.32xlarge",
    "vcpuNum": 128
   }
  ],
  "instance_type": "ml.m5.2xlarge",
  "kernelspec": {
   "display_name": "Python 3 (ipykernel)",
   "language": "python",
   "name": "python3"
  },
  "language_info": {
   "codemirror_mode": {
    "name": "ipython",
    "version": 3
   },
   "file_extension": ".py",
   "mimetype": "text/x-python",
   "name": "python",
   "nbconvert_exporter": "python",
   "pygments_lexer": "ipython3",
   "version": "3.10.13"
  }
 },
 "nbformat": 4,
 "nbformat_minor": 5
}
