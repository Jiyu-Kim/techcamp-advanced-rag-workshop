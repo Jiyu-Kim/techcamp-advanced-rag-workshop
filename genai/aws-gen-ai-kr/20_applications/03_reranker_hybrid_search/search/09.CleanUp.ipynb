{
 "cells": [
  {
   "cell_type": "markdown",
   "metadata": {},
   "source": [
    "# 리소스 정리\n",
    "\n",
    "이 노트북은 생성된 엔드포인트를 삭제하는 노트북 입니다.\n",
    "\n",
    "---"
   ]
  },
  {
   "cell_type": "markdown",
   "metadata": {},
   "source": [
    "# 1. 세이지 메이커 엔드포인트 정리\n",
    "- 삭제 후에 세이지 메이커 콘솔의 엔드포인트 메뉴로 가서 확인 해주세요."
   ]
  },
  {
   "cell_type": "code",
   "execution_count": 4,
   "metadata": {},
   "outputs": [],
   "source": [
    "def delete_endpoint(client, endpoint_name):\n",
    "    print(\"#### Start\")\n",
    "    response = client.describe_endpoint(EndpointName=endpoint_name)\n",
    "    EndpointConfigName = response['EndpointConfigName']    \n",
    "    \n",
    "    response = client.describe_endpoint_config(EndpointConfigName=EndpointConfigName)\n",
    "    \n",
    "    model_name = response['ProductionVariants'][0]['ModelName']\n",
    "\n",
    "\n",
    "    print(f'--- Deleted model: {model_name}')\n",
    "    print(f'--- Deleted endpoint: {endpoint_name}')\n",
    "    print(f'--- Deleted endpoint_config: {EndpointConfigName}')    \n",
    "    \n",
    "    client.delete_model(ModelName=model_name)    \n",
    "    client.delete_endpoint_config(EndpointConfigName=EndpointConfigName)        \n",
    "    client.delete_endpoint(EndpointName=endpoint_name)"
   ]
  },
  {
   "cell_type": "markdown",
   "metadata": {},
   "source": [
    "## koSimCSE 엔드포인트 삭제"
   ]
  },
  {
   "cell_type": "code",
   "execution_count": 5,
   "metadata": {},
   "outputs": [],
   "source": [
    "%store -r koSimCSE_endpoint_name"
   ]
  },
  {
   "cell_type": "code",
   "execution_count": 6,
   "metadata": {},
   "outputs": [
    {
     "name": "stdout",
     "output_type": "stream",
     "text": [
      "endpoint name: \n",
      " KoSimCSE-roberta-2024-02-11-07-48-02\n",
      "#### Start\n",
      "--- Deleted model: huggingface-pytorch-inference-2024-02-11-07-48-04-588\n",
      "--- Deleted endpoint: KoSimCSE-roberta-2024-02-11-07-48-02\n",
      "--- Deleted endpoint_config: KoSimCSE-roberta-2024-02-11-07-48-02\n"
     ]
    }
   ],
   "source": [
    "\n",
    "import boto3\n",
    "client = boto3.Session().client('sagemaker')\n",
    "\n",
    "endpoint_name = koSimCSE_endpoint_name\n",
    "\n",
    "response = client.list_endpoints(\n",
    "    SortBy='Name',\n",
    "    SortOrder='Ascending',\n",
    "    NameContains=endpoint_name,\n",
    ")\n",
    "\n",
    "for ep_list in response['Endpoints']:\n",
    "    print(\"endpoint name: \\n\", ep_list[\"EndpointName\"])\n",
    "    ep = ep_list[\"EndpointName\"]\n",
    "    delete_endpoint(client, ep)"
   ]
  },
  {
   "cell_type": "markdown",
   "metadata": {},
   "source": [
    "## koReranker 엔드포인트 삭제"
   ]
  },
  {
   "cell_type": "code",
   "execution_count": 7,
   "metadata": {},
   "outputs": [],
   "source": [
    "%store -r reranker_endpoint_name"
   ]
  },
  {
   "cell_type": "code",
   "execution_count": 8,
   "metadata": {},
   "outputs": [
    {
     "name": "stdout",
     "output_type": "stream",
     "text": [
      "endpoint name: \n",
      " Ko-Reranker-2024-02-11-08-29-00\n",
      "#### Start\n",
      "--- Deleted model: huggingface-pytorch-inference-2024-02-11-08-30-48-995\n",
      "--- Deleted endpoint: Ko-Reranker-2024-02-11-08-29-00\n",
      "--- Deleted endpoint_config: Ko-Reranker-2024-02-11-08-29-00\n"
     ]
    }
   ],
   "source": [
    "endpoint_name = koSimCSE_endpoint_name\n",
    "\n",
    "response = client.list_endpoints(\n",
    "    SortBy='Name',\n",
    "    SortOrder='Ascending',\n",
    "    NameContains=reranker_endpoint_name,\n",
    ")\n",
    "\n",
    "for ep_list in response['Endpoints']:\n",
    "    print(\"endpoint name: \\n\", ep_list[\"EndpointName\"])\n",
    "    ep = ep_list[\"EndpointName\"]\n",
    "    delete_endpoint(client, ep)"
   ]
  },
  {
   "cell_type": "markdown",
   "metadata": {},
   "source": [
    "# 2. 오픈서치 삭제\n",
    "\n",
    "아래를 참조해서 삭제 해주세요. \n",
    "- [Deleting Amazon OpenSearch Service domain - Verifiable Controls Evidence Store](https://docs.aws.amazon.com/solutions/latest/verifiable-controls-evidence-store/deleting-amazon-opensearch-service-domain.html)"
   ]
  },
  {
   "cell_type": "code",
   "execution_count": null,
   "metadata": {},
   "outputs": [],
   "source": []
  },
  {
   "cell_type": "code",
   "execution_count": null,
   "metadata": {},
   "outputs": [],
   "source": []
  },
  {
   "cell_type": "code",
   "execution_count": null,
   "metadata": {},
   "outputs": [],
   "source": []
  }
 ],
 "metadata": {
  "kernelspec": {
   "display_name": "Python 3 (ipykernel)",
   "language": "python",
   "name": "python3"
  },
  "language_info": {
   "codemirror_mode": {
    "name": "ipython",
    "version": 3
   },
   "file_extension": ".py",
   "mimetype": "text/x-python",
   "name": "python",
   "nbconvert_exporter": "python",
   "pygments_lexer": "ipython3",
   "version": "3.10.13"
  }
 },
 "nbformat": 4,
 "nbformat_minor": 4
}
