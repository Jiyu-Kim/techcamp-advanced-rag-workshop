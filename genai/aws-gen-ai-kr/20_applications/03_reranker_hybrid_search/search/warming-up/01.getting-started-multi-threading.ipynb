{
 "cells": [
  {
   "cell_type": "markdown",
   "metadata": {},
   "source": [
    "# 멀티 쓰레딩 기본 이해하기\n",
    "1. 필요한 모듈 가져오기\n",
    "2. Worker function 정의\n",
    "3. Partial 함수 선언\n",
    "4. ThreadPool 를 사용할 프로세스 개수를 입력하여 초기화 한다 Thread Pool 에 Partail 함수를 제출하여 실행을 요청한다\n",
    "- Create a ThreadPool instance and use the apply_async method to asynchronously execute the partial function on a sequence of values. apply_async submits a callable to the pool and returns an AsyncResult object. You can use the get method on this object to retrieve the result of the callable once it's done."
   ]
  },
  {
   "cell_type": "code",
   "execution_count": 12,
   "metadata": {},
   "outputs": [
    {
     "name": "stdout",
     "output_type": "stream",
     "text": [
      "Result: 16\n",
      "Result: 17\n",
      "Result: 18\n",
      "Result: 19\n",
      "Result: 20\n"
     ]
    }
   ],
   "source": [
    "from multiprocessing.pool import ThreadPool\n",
    "from functools import partial\n",
    "\n",
    "def worker_function(x, y, z):\n",
    "    return f\"Result: {x + y + z}\"\n",
    "\n",
    "def main():\n",
    "    fixed_y = 10\n",
    "    fixed_z = 5\n",
    "\n",
    "    async_worker_function = partial(worker_function, y=fixed_y, z=fixed_z)\n",
    "\n",
    "    num_threads = 2\n",
    "    pool = ThreadPool(processes = 2)\n",
    "\n",
    "    results = []\n",
    "    x_values = [1, 2, 3, 4, 5]\n",
    "\n",
    "    for x in x_values:\n",
    "        async_result = pool.apply_async(async_worker_function, (x,))\n",
    "        results.append(async_result)\n",
    "\n",
    "    pool.close()\n",
    "    pool.join()\n",
    "\n",
    "    for result in results:\n",
    "        print(result.get())\n",
    "\n",
    "\n",
    "main()"
   ]
  },
  {
   "cell_type": "code",
   "execution_count": 10,
   "metadata": {},
   "outputs": [
    {
     "name": "stderr",
     "output_type": "stream",
     "text": [
      "Exception ignored in: <function Pool.__del__ at 0x7f0bb00ac160>\n",
      "Traceback (most recent call last):\n",
      "  File \"/opt/conda/lib/python3.10/multiprocessing/pool.py\", line 267, in __del__\n",
      "    if self._state == RUN:\n",
      "AttributeError: 'ThreadPool' object has no attribute '_state'\n"
     ]
    },
    {
     "ename": "TypeError",
     "evalue": "ThreadPool.__init__() got an unexpected keyword argument 'num_threads'",
     "output_type": "error",
     "traceback": [
      "\u001b[0;31m---------------------------------------------------------------------------\u001b[0m",
      "\u001b[0;31mTypeError\u001b[0m                                 Traceback (most recent call last)",
      "Cell \u001b[0;32mIn[10], line 27\u001b[0m\n\u001b[1;32m     24\u001b[0m     \u001b[39mreturn\u001b[39;00m pd\u001b[39m.\u001b[39mDataFrame(results, index\u001b[39m=\u001b[39mdf\u001b[39m.\u001b[39mindex, columns\u001b[39m=\u001b[39mdf\u001b[39m.\u001b[39mcolumns)\n\u001b[1;32m     26\u001b[0m \u001b[39m# Apply the partial function in parallel to the DataFrame\u001b[39;00m\n\u001b[0;32m---> 27\u001b[0m df_updated \u001b[39m=\u001b[39m apply_parallel(df, partial_update)\n\u001b[1;32m     29\u001b[0m \u001b[39mprint\u001b[39m(df_updated)\n",
      "Cell \u001b[0;32mIn[10], line 20\u001b[0m, in \u001b[0;36mapply_parallel\u001b[0;34m(df, func)\u001b[0m\n\u001b[1;32m     19\u001b[0m \u001b[39mdef\u001b[39;00m \u001b[39mapply_parallel\u001b[39m(df, func):\n\u001b[0;32m---> 20\u001b[0m     pool \u001b[39m=\u001b[39m ThreadPool(num_threads\u001b[39m=\u001b[39;49m\u001b[39m2\u001b[39;49m)\n\u001b[1;32m     21\u001b[0m     results \u001b[39m=\u001b[39m pool\u001b[39m.\u001b[39mmap(func, [row \u001b[39mfor\u001b[39;00m _, row \u001b[39min\u001b[39;00m df\u001b[39m.\u001b[39miterrows()])\n\u001b[1;32m     22\u001b[0m     pool\u001b[39m.\u001b[39mclose()\n",
      "\u001b[0;31mTypeError\u001b[0m: ThreadPool.__init__() got an unexpected keyword argument 'num_threads'"
     ]
    }
   ],
   "source": [
    "import pandas as pd\n",
    "from functools import partial\n",
    "from multiprocessing.pool import ThreadPool\n",
    "\n",
    "# Sample DataFrame\n",
    "data = {'A': [1, 2, 3], 'B': [4, 5, 6]}\n",
    "df = pd.DataFrame(data)\n",
    "\n",
    "# Update function\n",
    "def update_function(row, increment, multiplier):\n",
    "    return (row + increment) * multiplier\n",
    "\n",
    "# Create the partial function\n",
    "increment_value = 10\n",
    "multiplier_value = 2\n",
    "partial_update = partial(update_function, increment=increment_value, multiplier=multiplier_value)\n",
    "\n",
    "# Function to apply the partial function in parallel\n",
    "def apply_parallel(df, func):\n",
    "    pool = ThreadPool(num_threads=2)\n",
    "    results = pool.map(func, [row for _, row in df.iterrows()])\n",
    "    pool.close()\n",
    "    pool.join()\n",
    "    return pd.DataFrame(results, index=df.index, columns=df.columns)\n",
    "\n",
    "# Apply the partial function in parallel to the DataFrame\n",
    "df_updated = apply_parallel(df, partial_update)\n",
    "\n",
    "print(df_updated)\n"
   ]
  },
  {
   "cell_type": "code",
   "execution_count": null,
   "metadata": {},
   "outputs": [],
   "source": [
    "            partial_search_hybrid_result = partial(\n",
    "                multiple_search(\n",
    "                    query=qry,\n",
    "                    vector_db= vector_db,\n",
    "                    k = single_num_result,\n",
    "                    h_k = hybrid_num_result, \n",
    "                    index_name= index_name,\n",
    "                    os_client=os_client,\n",
    "                    filter=[\n",
    "                        {\"term\": {\"metadata.type\": \"[]\"}},\n",
    "                        {\"term\": {\"metadata.source\": \"[]\"}},\n",
    "                    ],\n",
    "                    Semantic_Search = is_semantic,    \n",
    "                    Lexical_Search = is_lexical,    \n",
    "                    Hybrid_Search = is_hybrid,     \n",
    "                    minimum_should_match = minimum_should_match,   \n",
    "                    fusion_algorithm=\"RRF\", # [\"RRF\", \"simple_weighted\"]\n",
    "                    ensemble_weights= ensemble_weights, # 시멘트 서치에 가중치 0.5 , 키워드 서치 가중치 0.5 부여.\n",
    "                    verbose=False\n",
    "                )    \n",
    "            )\n",
    "\n",
    "            pool = ThreadPool(num_threads=2)\n",
    "\n",
    "            results = []\n",
    "            for idx,qry in enumerate (eval_df['input']):\n",
    "                async_result = pool.apply_async(partial_search_hybrid_result, (idx, qry))\n",
    "                results.append(async_result)\n",
    "\n",
    "            for result in results:\n",
    "                print(result.get())\n"
   ]
  },
  {
   "cell_type": "code",
   "execution_count": null,
   "metadata": {},
   "outputs": [],
   "source": [
    "# import threading\n",
    "# from functools import partial\n",
    "# from multiprocessing.pool import ThreadPool\n",
    "\n",
    "# pool = ThreadPool(processes=2)\n",
    "# rag_fusion_pool = ThreadPool(processes=5)\n",
    "# hyde_pool = ThreadPool(processes=4)\n",
    "\n",
    "#                 semantic_search = partial(\n",
    "#                     cls.get_rag_fusion_similar_docs,\n",
    "#                     index_name=kwargs[\"index_name\"],\n",
    "#                     os_client=kwargs[\"os_client\"],\n",
    "#                     llm_emb=kwargs[\"llm_emb\"],\n",
    "\n",
    "#                     query=kwargs[\"query\"],\n",
    "#                     k=kwargs.get(\"k\", 5) if not reranker else int(kwargs[\"k\"]*1.5),\n",
    "#                     boolean_filter=search_filter,\n",
    "#                     hybrid=True,\n",
    "\n",
    "#                     llm_text=kwargs.get(\"llm_text\", None),\n",
    "#                     query_augmentation_size=kwargs[\"query_augmentation_size\"],\n",
    "#                     query_transformation_prompt=kwargs.get(\"query_transformation_prompt\", None),\n",
    "#                     fusion_algorithm=kwargs.get(\"fusion_algorithm\", \"RRF\"), # [\"RRF\", \"simple_weighted\"]\n",
    "\n",
    "#                     verbose=kwargs.get(\"verbose\", False),\n",
    "#                 )\n",
    "\n",
    "#     semantic_pool = cls.pool.apply_async(semantic_search,)\n",
    "#     lexical_pool = cls.pool.apply_async(lexical_search,)\n",
    "#     similar_docs_semantic, similar_docs_keyword = semantic_pool.get(), lexical_pool.get()\n",
    "\n"
   ]
  }
 ],
 "metadata": {
  "kernelspec": {
   "display_name": "base",
   "language": "python",
   "name": "python3"
  },
  "language_info": {
   "codemirror_mode": {
    "name": "ipython",
    "version": 3
   },
   "file_extension": ".py",
   "mimetype": "text/x-python",
   "name": "python",
   "nbconvert_exporter": "python",
   "pygments_lexer": "ipython3",
   "version": "3.10.13"
  }
 },
 "nbformat": 4,
 "nbformat_minor": 2
}
