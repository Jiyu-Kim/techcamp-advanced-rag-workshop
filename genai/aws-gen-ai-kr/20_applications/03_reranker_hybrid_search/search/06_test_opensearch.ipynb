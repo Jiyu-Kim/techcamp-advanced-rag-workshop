{
 "cells": [
  {
   "cell_type": "markdown",
   "id": "fb017ab4-a16a-4c67-b875-a29eed6aa5bd",
   "metadata": {
    "jp-MarkdownHeadingCollapsed": true,
    "tags": []
   },
   "source": [
    "# OpenSearch\b 인덱스 테스트\n",
    "\n",
    "이 노트북은 이전에 생성된 오픈 서치 인덱스를 테스트 합니다. 아래의 4가지 방법을 해봅니다.\n",
    "- Lexical Search\n",
    "- Sematic Search\n",
    "- Hybrid Search\n",
    "- Reranker + Hybrid Search"
   ]
  },
  {
   "cell_type": "markdown",
   "id": "8a2f9c19-c43c-435c-944d-77984b54a6d8",
   "metadata": {},
   "source": [
    "# 1. 환경 세팅"
   ]
  },
  {
   "cell_type": "code",
   "execution_count": 20,
   "id": "787df0f0-7fd9-47ca-a0c3-91b3037d6a10",
   "metadata": {
    "tags": []
   },
   "outputs": [
    {
     "name": "stdout",
     "output_type": "stream",
     "text": [
      "The autoreload extension is already loaded. To reload it, use:\n",
      "  %reload_ext autoreload\n",
      "local_module_path:  /home/sagemaker-user/aws-ai-ml-workshop-kr/genai/aws-gen-ai-kr/20_applications/03_reranker_hybrid_search\n"
     ]
    }
   ],
   "source": [
    "%load_ext autoreload\n",
    "%autoreload 2\n",
    "\n",
    "import sys, os\n",
    "\n",
    "local_module_path = \"../\"\n",
    "sys.path.append(os.path.abspath(local_module_path))\n",
    "print(\"local_module_path: \",os.path.abspath(local_module_path))"
   ]
  },
  {
   "cell_type": "markdown",
   "id": "ca418cc5",
   "metadata": {},
   "source": [
    "## Bedrock Client 생성\n",
    "### 참고\n",
    "- 아래의 노트북은 베드락의 사용을 초기화 합니다. 추후에 베드락의 임베딩 모델등을 사용하기 위함 입니다.\n",
    "\n"
   ]
  },
  {
   "cell_type": "code",
   "execution_count": 21,
   "id": "ee268417-f4cf-448f-be1f-aae7f9a81c6c",
   "metadata": {
    "tags": []
   },
   "outputs": [
    {
     "name": "stdout",
     "output_type": "stream",
     "text": [
      "Create new client\n",
      "  Using region: us-east-1\n",
      "  Using profile: None\n",
      "boto3 Bedrock client successfully created!\n",
      "bedrock-runtime(https://bedrock-runtime.us-east-1.amazonaws.com)\n",
      "\u001b[32m\n",
      "== FM lists ==\u001b[0m\n",
      "############### bedrock info\n",
      "{'Claude-Instant-V1': 'anthropic.claude-instant-v1',\n",
      " 'Claude-V1': 'anthropic.claude-v1',\n",
      " 'Claude-V2': 'anthropic.claude-v2',\n",
      " 'Claude-V2-1': 'anthropic.claude-v2:1',\n",
      " 'Cohere-Embeddings-En': 'cohere.embed-english-v3',\n",
      " 'Cohere-Embeddings-Multilingual': 'cohere.embed-multilingual-v3',\n",
      " 'Command': 'cohere.command-text-v14',\n",
      " 'Command-Light': 'cohere.command-light-text-v14',\n",
      " 'Jurassic-2-Mid': 'ai21.j2-mid-v1',\n",
      " 'Jurassic-2-Ultra': 'ai21.j2-ultra-v1',\n",
      " 'Llama2-13b-Chat': 'meta.llama2-13b-chat-v1',\n",
      " 'Titan-Embeddings-G1': 'amazon.titan-embed-text-v1',\n",
      " 'Titan-Text-G1': 'amazon.titan-text-express-v1',\n",
      " 'Titan-Text-G1-Light': 'amazon.titan-text-lite-v1'}\n"
     ]
    }
   ],
   "source": [
    "import json\n",
    "import boto3\n",
    "from pprint import pprint\n",
    "from termcolor import colored\n",
    "from local_utils import bedrock, print_ww\n",
    "from local_utils.bedrock import bedrock_info\n",
    "\n",
    "boto3_bedrock = bedrock.get_bedrock_client(\n",
    "    assumed_role=os.environ.get(\"BEDROCK_ASSUME_ROLE\", None),\n",
    "    endpoint_url=os.environ.get(\"BEDROCK_ENDPOINT_URL\", None),\n",
    "    region=os.environ.get(\"AWS_DEFAULT_REGION\", None),\n",
    ")\n",
    "\n",
    "print (colored(\"\\n== FM lists ==\", \"green\"))\n",
    "pprint (bedrock_info.get_list_fm_models())\n"
   ]
  },
  {
   "cell_type": "markdown",
   "id": "16b9ad47-56b6-427d-84a6-4e792bf4f6f9",
   "metadata": {},
   "source": [
    "## Embedding 모델 선택"
   ]
  },
  {
   "cell_type": "code",
   "execution_count": 22,
   "id": "85910ba4-1eb0-4b38-8d46-aa8a3da3cd60",
   "metadata": {
    "tags": []
   },
   "outputs": [],
   "source": [
    "from local_utils.rag import (\n",
    "    KoSimCSERobertaContentHandler, \n",
    "    SagemakerEndpointEmbeddingsJumpStart,\n",
    "    get_embedding_model\n",
    ")"
   ]
  },
  {
   "cell_type": "markdown",
   "id": "1fe62c38-4b50-48ef-96de-3690361551de",
   "metadata": {},
   "source": [
    "#### [중요] is_KoSimCSERobert == True 경우,  endpoint_name 을 꼭 넣어 주세요."
   ]
  },
  {
   "cell_type": "code",
   "execution_count": 23,
   "id": "2da5846d-e9b9-4484-990f-00f62ce02e19",
   "metadata": {},
   "outputs": [
    {
     "name": "stdout",
     "output_type": "stream",
     "text": [
      "kosimcse_endpoint_name: \n",
      " KoSimCSE-roberta-2024-02-12-06-54-55\n"
     ]
    }
   ],
   "source": [
    " %store -r koSimCSE_endpoint_name\n",
    "print(\"kosimcse_endpoint_name: \\n\", koSimCSE_endpoint_name)"
   ]
  },
  {
   "cell_type": "code",
   "execution_count": 24,
   "id": "b29f58a6-a230-4aa9-994d-0a6343f72fcb",
   "metadata": {
    "tags": []
   },
   "outputs": [
    {
     "name": "stdout",
     "output_type": "stream",
     "text": [
      "####################\n",
      "model_name:  Titan-Embeddings-G1\n",
      "Bedrock Embeddings Model Loaded\n"
     ]
    }
   ],
   "source": [
    "is_bedrock_embeddings = True\n",
    "is_KoSimCSERobert = False\n",
    "\n",
    "aws_region = os.environ.get(\"AWS_DEFAULT_REGION\", None)\n",
    "\n",
    "##############################\n",
    "# Parameters for is_KoSimCSERobert\n",
    "##############################\n",
    "if is_KoSimCSERobert: endpont_name = koSimCSE_endpoint_name\n",
    "else: endpont_name = None\n",
    "##############################\n",
    "\n",
    "llm_emb = get_embedding_model(is_bedrock_embeddings, is_KoSimCSERobert, boto3_bedrock, aws_region, endpont_name)    "
   ]
  },
  {
   "cell_type": "markdown",
   "id": "3efd4c0f-f861-44f0-8d7c-1f4b8ab36d1b",
   "metadata": {
    "tags": []
   },
   "source": [
    "# 2. OpenSearch Client 생성\n",
    "    \n",
    "#### [중요] 아래에 aws parameter store 에 아래 인증정보가 먼저 입력되어 있어야 합니다.\n"
   ]
  },
  {
   "cell_type": "code",
   "execution_count": 25,
   "id": "fadd5da7-b0e9-46ff-8363-85b1db883219",
   "metadata": {
    "tags": []
   },
   "outputs": [],
   "source": [
    "from local_utils.proc_docs import get_parameter"
   ]
  },
  {
   "cell_type": "code",
   "execution_count": 26,
   "id": "1084b2cf-9601-4026-b8e8-5d7ea27f5e74",
   "metadata": {
    "tags": []
   },
   "outputs": [],
   "source": [
    "aws_region = 'us-east-1'\n",
    "ssm = boto3.client(\"ssm\", aws_region)\n",
    "\n",
    "opensearch_domain_endpoint = get_parameter(\n",
    "    boto3_clinet = ssm,\n",
    "    parameter_name = 'lec_opensearch_domain_endpoint',\n",
    ")\n",
    "\n",
    "opensearch_user_id = get_parameter(\n",
    "    boto3_clinet = ssm,\n",
    "    parameter_name = 'lec_opensearch_userid',\n",
    ")\n",
    "\n",
    "opensearch_user_password = get_parameter(\n",
    "    boto3_clinet = ssm,\n",
    "    parameter_name = 'lec_opensearch_password',\n",
    ")\n",
    "\n",
    "http_auth = (opensearch_user_id, opensearch_user_password) # Master username, Master password"
   ]
  },
  {
   "cell_type": "code",
   "execution_count": 27,
   "id": "1d1f5685-8e8f-43a6-84d1-6c7b450f817b",
   "metadata": {
    "tags": []
   },
   "outputs": [],
   "source": [
    "from local_utils.opensearch import opensearch_utils"
   ]
  },
  {
   "cell_type": "code",
   "execution_count": 28,
   "id": "6a1fd652-f8fa-4289-ae5b-90021b553871",
   "metadata": {
    "tags": []
   },
   "outputs": [],
   "source": [
    "os_client = opensearch_utils.create_aws_opensearch_client(\n",
    "    aws_region,\n",
    "    opensearch_domain_endpoint,\n",
    "    http_auth\n",
    ")"
   ]
  },
  {
   "cell_type": "markdown",
   "id": "187ceea4-4d80-41bf-9431-47d5f3902396",
   "metadata": {
    "tags": []
   },
   "source": [
    "# 3. OpenSearch Index 확인\n"
   ]
  },
  {
   "cell_type": "code",
   "execution_count": 29,
   "id": "446eb502",
   "metadata": {},
   "outputs": [
    {
     "name": "stdout",
     "output_type": "stream",
     "text": [
      "index_name:  search_retail_demo_store\n",
      "index_name=search_retail_demo_store, exists=True\n",
      "Index exists and is ready: \n"
     ]
    }
   ],
   "source": [
    "%store -r index_name\n",
    "print(\"index_name: \", index_name)\n",
    "\n",
    "index_exists = opensearch_utils.check_if_index_exists(os_client, index_name)\n",
    "\n",
    "if index_exists:\n",
    "    print(\"Index exists and is ready: \")\n"
   ]
  },
  {
   "cell_type": "markdown",
   "id": "e1ac962c",
   "metadata": {},
   "source": [
    "## 랭체인 인덱스 연결 오브젝트 생성\n",
    "\n",
    "- [langchain.vectorstores.opensearch_vector_search.OpenSearchVectorSearch](https://api.python.langchain.com/en/latest/vectorstores/langchain.vectorstores.opensearch_vector_search.OpenSearchVectorSearch.html)"
   ]
  },
  {
   "cell_type": "code",
   "execution_count": 30,
   "id": "40e6a1ae-804d-41f6-8e46-04764a8a5be3",
   "metadata": {
    "tags": []
   },
   "outputs": [],
   "source": [
    "from langchain.vectorstores import OpenSearchVectorSearch"
   ]
  },
  {
   "cell_type": "code",
   "execution_count": 31,
   "id": "aed7b6f7",
   "metadata": {},
   "outputs": [
    {
     "data": {
      "text/plain": [
       "<langchain_community.vectorstores.opensearch_vector_search.OpenSearchVectorSearch at 0x7fc05031ccd0>"
      ]
     },
     "execution_count": 31,
     "metadata": {},
     "output_type": "execute_result"
    }
   ],
   "source": [
    "vector_db = OpenSearchVectorSearch(\n",
    "    index_name=index_name,\n",
    "    opensearch_url=opensearch_domain_endpoint,\n",
    "    embedding_function=llm_emb,\n",
    "    http_auth=http_auth, # http_auth\n",
    "    is_aoss =False,\n",
    "    engine=\"faiss\",\n",
    "    space_type=\"l2\",\n",
    "    bulk_size=100000,\n",
    "    timeout=60    \n",
    ")\n",
    "vector_db"
   ]
  },
  {
   "cell_type": "markdown",
   "id": "ed402bb8-497d-4da6-8a1b-02de77133251",
   "metadata": {},
   "source": [
    "# 4. 검색 테스트"
   ]
  },
  {
   "cell_type": "markdown",
   "id": "b2a1e7f5",
   "metadata": {},
   "source": [
    "## Lexical Search"
   ]
  },
  {
   "cell_type": "code",
   "execution_count": 32,
   "id": "4cffdf80",
   "metadata": {},
   "outputs": [],
   "source": [
    "def opensearch_pretty_print_documents(response):\n",
    "    '''\n",
    "    OpenSearch 결과인 LIST 를 파싱하는 함수\n",
    "    '''\n",
    "    for doc, score in response:\n",
    "        print(f'\\nScore: {score}')\n",
    "        # print(f'Document Number: {doc.metadata[\"row\"]}')\n",
    "\n",
    "        # Split the page content into lines\n",
    "        lines = doc.page_content.split(\"\\n\")\n",
    "        metadata = doc.metadata\n",
    "        print(lines)\n",
    "        print(metadata)        \n"
   ]
  },
  {
   "cell_type": "code",
   "execution_count": 46,
   "id": "625944b3",
   "metadata": {},
   "outputs": [
    {
     "name": "stdout",
     "output_type": "stream",
     "text": [
      "Lexical_Search:  True\n",
      "Semantic_Search:  False\n",
      "Hybrid_Search:  False\n",
      "Query: \n",
      " 남성 정장 신발\n",
      "lexical search query: \n",
      "{'query': {'bool': {'filter': [],\n",
      "                    'must': [{'match': {'text': {'minimum_should_match': '50%',\n",
      "                                                 'operator': 'or',\n",
      "                                                 'query': '남성 정장 신발'}}}]}},\n",
      " 'size': 3}\n",
      "##############################\n",
      "Lexcial_Search\n",
      "##############################\n",
      "\n",
      "Score: 1.0\n",
      "['남성용 갈색 가죽 정장 신발 한 켤레']\n",
      "{'source': 'train.json', 'seq_num': 10, 'intent': '신발|정장', 'product': '브라운 가죽 신발', 'desc': '남성용 갈색 가죽 정장 신발 한 켤레', 'timestamp': 1707728665.7180805, 'id': '108005eb-897f-4073-ba15-db55c4b127bf'}\n",
      "\n",
      "Score: 1.0\n",
      "['남성용 황갈색 정장 신발 한 켤레']\n",
      "{'source': 'train.json', 'seq_num': 419, 'intent': '신발|정장', 'product': '탠 슈즈', 'desc': '남성용 황갈색 정장 신발 한 켤레', 'timestamp': 1707728665.7309787, 'id': 'f43f20f6-dfc3-47da-b51a-e940a8f804a9'}\n",
      "\n",
      "Score: 0.9763395194372438\n",
      "['남성용 갈색 정장 신발 한 켤레']\n",
      "{'source': 'train.json', 'seq_num': 160, 'intent': '신발|정장', 'product': '브라운 슈즈', 'desc': '남성용 갈색 정장 신발 한 켤레', 'timestamp': 1707728665.7221622, 'id': 'd77642ec-951d-4758-b216-d11b71e69e14'}\n"
     ]
    }
   ],
   "source": [
    "from local_utils.rag import multiple_search\n",
    "\n",
    "qry = '남성 정장 신발'\n",
    "\n",
    "search_result = multiple_search(\n",
    "    query=qry,\n",
    "    vector_db= vector_db,\n",
    "    k = 3,\n",
    "    h_k = 1, \n",
    "    index_name= index_name,\n",
    "    os_client=os_client,\n",
    "    filter=[\n",
    "        {\"term\": {\"metadata.type\": \"[]\"}},\n",
    "        {\"term\": {\"metadata.source\": \"[]\"}},\n",
    "    ],\n",
    "    Lexical_Search = True,    \n",
    "    Semantic_Search = False,    \n",
    "    Hybrid_Search = False,     \n",
    "    minimum_should_match = 50,   \n",
    "    fusion_algorithm=\"RRF\", # [\"RRF\", \"simple_weighted\"]\n",
    "    ensemble_weights= [0.50, 0.50], # 시멘트 서치에 가중치 0.5 , 키워드 서치 가중치 0.5 부여.\n",
    "    verbose=True\n",
    ")\n",
    "\n",
    "# opensearch_pretty_print_documents(search_result)"
   ]
  },
  {
   "cell_type": "markdown",
   "id": "dfed5703",
   "metadata": {},
   "source": [
    "## Semantic Search"
   ]
  },
  {
   "cell_type": "code",
   "execution_count": 47,
   "id": "3e42b920",
   "metadata": {},
   "outputs": [
    {
     "name": "stdout",
     "output_type": "stream",
     "text": [
      "Lexical_Search:  False\n",
      "Semantic_Search:  True\n",
      "Hybrid_Search:  False\n",
      "Query: \n",
      " 남성 정장 신발\n",
      "##############################\n",
      "Semantic_Search\n",
      "##############################\n",
      "\n",
      "Score: 1.0\n",
      "['남성용 갈색 가죽 정장 신발 한 켤레']\n",
      "{'source': 'train.json', 'seq_num': 10, 'intent': '신발|정장', 'product': '브라운 가죽 신발', 'desc': '남성용 갈색 가죽 정장 신발 한 켤레', 'timestamp': 1707728665.7180805}\n",
      "\n",
      "Score: 0.9940967923037008\n",
      "['남성용 갈색 정장 신발 한 켤레']\n",
      "{'source': 'train.json', 'seq_num': 160, 'intent': '신발|정장', 'product': '브라운 슈즈', 'desc': '남성용 갈색 정장 신발 한 켤레', 'timestamp': 1707728665.7221622}\n",
      "\n",
      "Score: 0.9889926181961841\n",
      "['남성용 황갈색 정장 신발 한 켤레']\n",
      "{'source': 'train.json', 'seq_num': 419, 'intent': '신발|정장', 'product': '탠 슈즈', 'desc': '남성용 황갈색 정장 신발 한 켤레', 'timestamp': 1707728665.7309787}\n"
     ]
    }
   ],
   "source": [
    "qry = '남성 정장 신발'\n",
    "\n",
    "search_result = multiple_search(\n",
    "    query=qry,\n",
    "    vector_db= vector_db,\n",
    "    k = 3,\n",
    "    h_k = 1, \n",
    "    index_name= index_name,\n",
    "    os_client=os_client,\n",
    "    filter=[\n",
    "        {\"term\": {\"metadata.type\": \"[]\"}},\n",
    "        {\"term\": {\"metadata.source\": \"[]\"}},\n",
    "    ],\n",
    "    Lexical_Search = False,    \n",
    "    Semantic_Search = True,    \n",
    "    Hybrid_Search = False,     \n",
    "    minimum_should_match = 10,   \n",
    "    fusion_algorithm=\"RRF\", # [\"RRF\", \"simple_weighted\"]\n",
    "    ensemble_weights= [0.51, 0.49], # 시멘트 서치에 가중치 0.5 , 키워드 서치 가중치 0.5 부여.\n",
    "    verbose=True\n",
    ")\n",
    "\n",
    "# opensearch_pretty_print_documents(search_result)"
   ]
  },
  {
   "cell_type": "markdown",
   "id": "59f2f60d",
   "metadata": {},
   "source": [
    "## Hybrid Search"
   ]
  },
  {
   "cell_type": "code",
   "execution_count": 48,
   "id": "39248d42",
   "metadata": {},
   "outputs": [
    {
     "name": "stdout",
     "output_type": "stream",
     "text": [
      "Lexical_Search:  False\n",
      "Semantic_Search:  False\n",
      "Hybrid_Search:  True\n",
      "Query: \n",
      " 남성 정장 신발\n",
      "##############################\n",
      "Lexcial_Search\n",
      "##############################\n",
      "\n",
      "Score: 1.0\n",
      "['남성용 갈색 가죽 정장 신발 한 켤레']\n",
      "{'source': 'train.json', 'seq_num': 10, 'intent': '신발|정장', 'product': '브라운 가죽 신발', 'desc': '남성용 갈색 가죽 정장 신발 한 켤레', 'timestamp': 1707728665.7180805, 'id': '108005eb-897f-4073-ba15-db55c4b127bf'}\n",
      "\n",
      "Score: 1.0\n",
      "['남성용 황갈색 정장 신발 한 켤레']\n",
      "{'source': 'train.json', 'seq_num': 419, 'intent': '신발|정장', 'product': '탠 슈즈', 'desc': '남성용 황갈색 정장 신발 한 켤레', 'timestamp': 1707728665.7309787, 'id': 'f43f20f6-dfc3-47da-b51a-e940a8f804a9'}\n",
      "\n",
      "Score: 0.9763395194372438\n",
      "['남성용 갈색 정장 신발 한 켤레']\n",
      "{'source': 'train.json', 'seq_num': 160, 'intent': '신발|정장', 'product': '브라운 슈즈', 'desc': '남성용 갈색 정장 신발 한 켤레', 'timestamp': 1707728665.7221622, 'id': 'd77642ec-951d-4758-b216-d11b71e69e14'}\n",
      "##############################\n",
      "Semantic_Search\n",
      "##############################\n",
      "\n",
      "Score: 1.0\n",
      "['남성용 갈색 가죽 정장 신발 한 켤레']\n",
      "{'source': 'train.json', 'seq_num': 10, 'intent': '신발|정장', 'product': '브라운 가죽 신발', 'desc': '남성용 갈색 가죽 정장 신발 한 켤레', 'timestamp': 1707728665.7180805}\n",
      "\n",
      "Score: 0.9940967923037008\n",
      "['남성용 갈색 정장 신발 한 켤레']\n",
      "{'source': 'train.json', 'seq_num': 160, 'intent': '신발|정장', 'product': '브라운 슈즈', 'desc': '남성용 갈색 정장 신발 한 켤레', 'timestamp': 1707728665.7221622}\n",
      "\n",
      "Score: 0.9889926181961841\n",
      "['남성용 황갈색 정장 신발 한 켤레']\n",
      "{'source': 'train.json', 'seq_num': 419, 'intent': '신발|정장', 'product': '탠 슈즈', 'desc': '남성용 황갈색 정장 신발 한 켤레', 'timestamp': 1707728665.7309787}\n",
      "##############################\n",
      "Ensemble_Search\n",
      "##############################\n",
      "\n",
      "Score: 0.01639344262295082\n",
      "['남성용 갈색 가죽 정장 신발 한 켤레']\n",
      "{'source': 'train.json', 'seq_num': 10, 'intent': '신발|정장', 'product': '브라운 가죽 신발', 'desc': '남성용 갈색 가죽 정장 신발 한 켤레', 'timestamp': 1707728665.7180805, 'id': '108005eb-897f-4073-ba15-db55c4b127bf'}\n",
      "\n",
      "Score: 0.01600358422939068\n",
      "['남성용 황갈색 정장 신발 한 켤레']\n",
      "{'source': 'train.json', 'seq_num': 419, 'intent': '신발|정장', 'product': '탠 슈즈', 'desc': '남성용 황갈색 정장 신발 한 켤레', 'timestamp': 1707728665.7309787, 'id': 'f43f20f6-dfc3-47da-b51a-e940a8f804a9'}\n",
      "\n",
      "Score: 0.015998463901689707\n",
      "['남성용 갈색 정장 신발 한 켤레']\n",
      "{'source': 'train.json', 'seq_num': 160, 'intent': '신발|정장', 'product': '브라운 슈즈', 'desc': '남성용 갈색 정장 신발 한 켤레', 'timestamp': 1707728665.7221622, 'id': 'd77642ec-951d-4758-b216-d11b71e69e14'}\n"
     ]
    }
   ],
   "source": [
    "qry = '남성 정장 신발'\n",
    "\n",
    "search_result = multiple_search(\n",
    "    query=qry,\n",
    "    vector_db= vector_db,\n",
    "    k = 3,\n",
    "    h_k = 3, \n",
    "    index_name= index_name,\n",
    "    os_client=os_client,\n",
    "    filter=[\n",
    "        {\"term\": {\"metadata.type\": \"[]\"}},\n",
    "        {\"term\": {\"metadata.source\": \"[]\"}},\n",
    "    ],\n",
    "    Lexical_Search = False,    \n",
    "    Semantic_Search = False,    \n",
    "    Hybrid_Search = True,     \n",
    "    minimum_should_match = 10,   \n",
    "    fusion_algorithm=\"RRF\", # [\"RRF\", \"simple_weighted\"]\n",
    "    ensemble_weights= [0.49, 0.51], # 시멘트 서치에 가중치 0.51 , 키워드 서치 가중치 0.49 부여.\n",
    "    verbose=True\n",
    ")\n",
    "\n",
    "# opensearch_pretty_print_documents(search_result)"
   ]
  },
  {
   "cell_type": "markdown",
   "id": "ebe68c2a",
   "metadata": {},
   "source": [
    "## Reranker"
   ]
  },
  {
   "cell_type": "code",
   "execution_count": 49,
   "id": "4b3f132f",
   "metadata": {},
   "outputs": [
    {
     "name": "stdout",
     "output_type": "stream",
     "text": [
      "reranker_endpoint_name:  Ko-Reranker-2024-02-12-06-58-12\n"
     ]
    }
   ],
   "source": [
    "%store -r reranker_endpoint_name\n",
    "print(\"reranker_endpoint_name: \", reranker_endpoint_name)"
   ]
  },
  {
   "cell_type": "code",
   "execution_count": 54,
   "id": "f51fad52",
   "metadata": {},
   "outputs": [
    {
     "name": "stdout",
     "output_type": "stream",
     "text": [
      "### Query: \n",
      " 남성 정장 신발\n",
      "### Reranker payload: \n",
      " {\n",
      "    \"inputs\": [\n",
      "        {\n",
      "            \"text\": \"남성 정장 신발\",\n",
      "            \"text_pair\": \"남성용 갈색 가죽 정장 신발 한 켤레\"\n",
      "        },\n",
      "        {\n",
      "            \"text\": \"남성 정장 신발\",\n",
      "            \"text_pair\": \"남성용 황갈색 정장 신발 한 켤레\"\n",
      "        },\n",
      "        {\n",
      "            \"text\": \"남성 정장 신발\",\n",
      "            \"text_pair\": \"남성용 갈색 정장 신발 한 켤레\"\n",
      "        }\n",
      "    ]\n",
      "}\n",
      "### Reranker output: \n",
      " [{'label': 'LABEL_0', 'score': 0.9924402236938477}, {'label': 'LABEL_0', 'score': 0.9903420209884644}, {'label': 'LABEL_0', 'score': 0.9864288568496704}]\n",
      "### Reranker scorelist: \n",
      " [0.9924402236938477, 0.9903420209884644, 0.9864288568496704]\n",
      "### The index of the maximum number is: 0\n",
      "### Highest query: \n",
      " 남성용 갈색 가죽 정장 신발 한 켤레\n",
      "### Highest intent: \n",
      " 신발|정장\n"
     ]
    }
   ],
   "source": [
    "import json\n",
    "import boto3\n",
    "from local_utils.reranker import RunReranker\n",
    "\n",
    "\n",
    "runtime_client = boto3.Session().client('sagemaker-runtime')\n",
    "\n",
    "qry = '남성 정장 신발'\n",
    "\n",
    "search_hybrid_result = multiple_search(\n",
    "    query=qry,\n",
    "    vector_db= vector_db,\n",
    "    k=3,\n",
    "    h_k =3, \n",
    "    index_name= index_name,\n",
    "    os_client=os_client,\n",
    "    filter=[\n",
    "        {\"term\": {\"metadata.type\": \"[]\"}},\n",
    "        {\"term\": {\"metadata.source\": \"[]\"}},\n",
    "    ],\n",
    "    Semantic_Search = False,    \n",
    "    Lexical_Search = False,    \n",
    "    Hybrid_Search = True,     \n",
    "    minimum_should_match = 10,   \n",
    "    fusion_algorithm=\"RRF\", # [\"RRF\", \"simple_weighted\"]\n",
    "    ensemble_weights=[.49, .51], # 시멘트 서치에 가중치 0.5 , 키워드 서치 가중치 0.5 부여.\n",
    "    verbose=False\n",
    ")    \n",
    "\n",
    "intent = RunReranker(query=qry, query_pair=search_hybrid_result, \n",
    "                    boto3_client=runtime_client, \n",
    "                    endpoint_name=reranker_endpoint_name, verbose=True)          \n"
   ]
  },
  {
   "cell_type": "code",
   "execution_count": 55,
   "id": "581864c4",
   "metadata": {},
   "outputs": [
    {
     "name": "stdout",
     "output_type": "stream",
     "text": [
      "#############################################\n",
      "Query:  남성 정장 신발\n",
      "#############################################\n",
      "Re-Ranked Answers: \n",
      "Product, Desc, Category, Similar Score:\n",
      "브라운 가죽 신발 ,  남성용 갈색 가죽 정장 신발 한 켤레 ,  신발|정장 ,  0.99244\n",
      "탠 슈즈 ,  남성용 황갈색 정장 신발 한 켤레 ,  신발|정장 ,  0.990342\n",
      "브라운 슈즈 ,  남성용 갈색 정장 신발 한 켤레 ,  신발|정장 ,  0.986429\n"
     ]
    }
   ],
   "source": [
    "intent.verbose = False\n",
    "intent.show_ranked_answers()"
   ]
  },
  {
   "cell_type": "markdown",
   "id": "c6279019-d4cf-4196-adbe-6c611f3327fd",
   "metadata": {},
   "source": [
    "### 다른 예시"
   ]
  },
  {
   "cell_type": "code",
   "execution_count": 74,
   "id": "752547fb",
   "metadata": {},
   "outputs": [
    {
     "name": "stdout",
     "output_type": "stream",
     "text": [
      "### Query: \n",
      " 거실 테이블 추천해줘\n",
      "### Reranker payload: \n",
      " {\n",
      "    \"inputs\": [\n",
      "        {\n",
      "            \"text\": \"거실 테이블 추천해줘\",\n",
      "            \"text_pair\": \"방을 돋보이게 하는 펑키 탠 액센트 테이블\"\n",
      "        },\n",
      "        {\n",
      "            \"text\": \"거실 테이블 추천해줘\",\n",
      "            \"text_pair\": \"스웰 골든 액센트 테이블로 방을 멋지게 꾸며보세요\"\n",
      "        },\n",
      "        {\n",
      "            \"text\": \"거실 테이블 추천해줘\",\n",
      "            \"text_pair\": \"하루를 활기차게 만들어줄 그루비 그레이 커피 테이블\"\n",
      "        }\n",
      "    ]\n",
      "}\n",
      "### Reranker output: \n",
      " [{'label': 'LABEL_0', 'score': 0.06231135502457619}, {'label': 'LABEL_0', 'score': 0.1321992725133896}, {'label': 'LABEL_0', 'score': 0.11836797744035721}]\n",
      "### Reranker scorelist: \n",
      " [0.06231135502457619, 0.1321992725133896, 0.11836797744035721]\n",
      "### The index of the maximum number is: 1\n",
      "### Highest query: \n",
      " 스웰 골든 액센트 테이블로 방을 멋지게 꾸며보세요\n",
      "### Highest intent: \n",
      " 가구|테이블\n"
     ]
    }
   ],
   "source": [
    "import json\n",
    "import boto3\n",
    "from local_utils.reranker import RunReranker\n",
    "\n",
    "\n",
    "runtime_client = boto3.Session().client('sagemaker-runtime')\n",
    "\n",
    "qry = '거실 테이블 추천해줘'\n",
    "\n",
    "search_hybrid_result = multiple_search(\n",
    "    query=qry,\n",
    "    vector_db= vector_db,\n",
    "    k=3,\n",
    "    h_k =3, \n",
    "    index_name= index_name,\n",
    "    os_client=os_client,\n",
    "    filter=[\n",
    "        {\"term\": {\"metadata.type\": \"[]\"}},\n",
    "        {\"term\": {\"metadata.source\": \"[]\"}},\n",
    "    ],\n",
    "    Semantic_Search = False,    \n",
    "    Lexical_Search = False,    \n",
    "    Hybrid_Search = True,     \n",
    "    minimum_should_match = 10,   \n",
    "    fusion_algorithm=\"RRF\", # [\"RRF\", \"simple_weighted\"]\n",
    "    ensemble_weights=[.49, .51], # 시멘트 서치에 가중치 0.5 , 키워드 서치 가중치 0.5 부여.\n",
    "    verbose=False\n",
    ")    \n",
    "\n",
    "intent = RunReranker(query=qry, query_pair=search_hybrid_result, \n",
    "                    boto3_client=runtime_client, \n",
    "                    endpoint_name=reranker_endpoint_name, verbose=True)          \n"
   ]
  },
  {
   "cell_type": "code",
   "execution_count": 75,
   "id": "ef675719",
   "metadata": {},
   "outputs": [
    {
     "name": "stdout",
     "output_type": "stream",
     "text": [
      "#############################################\n",
      "Query:  거실 테이블 추천해줘\n",
      "#############################################\n",
      "Re-Ranked Answers: \n",
      "Product, Desc, Category, Similar Score:\n",
      "골든 액센트 테이블 ,  스웰 골든 액센트 테이블로 방을 멋지게 꾸며보세요 ,  가구|테이블 ,  0.132199\n",
      "그레이 커피 테이블 ,  하루를 활기차게 만들어줄 그루비 그레이 커피 테이블 ,  가구|테이블 ,  0.118368\n",
      "탠 액센트 테이블 ,  방을 돋보이게 하는 펑키 탠 액센트 테이블 ,  가구|테이블 ,  0.062311\n"
     ]
    }
   ],
   "source": [
    "intent.verbose = False\n",
    "intent.show_ranked_answers()"
   ]
  },
  {
   "cell_type": "code",
   "execution_count": null,
   "id": "8f7d23a8",
   "metadata": {},
   "outputs": [],
   "source": []
  }
 ],
 "metadata": {
  "availableInstances": [
   {
    "_defaultOrder": 0,
    "_isFastLaunch": true,
    "category": "General purpose",
    "gpuNum": 0,
    "hideHardwareSpecs": false,
    "memoryGiB": 4,
    "name": "ml.t3.medium",
    "vcpuNum": 2
   },
   {
    "_defaultOrder": 1,
    "_isFastLaunch": false,
    "category": "General purpose",
    "gpuNum": 0,
    "hideHardwareSpecs": false,
    "memoryGiB": 8,
    "name": "ml.t3.large",
    "vcpuNum": 2
   },
   {
    "_defaultOrder": 2,
    "_isFastLaunch": false,
    "category": "General purpose",
    "gpuNum": 0,
    "hideHardwareSpecs": false,
    "memoryGiB": 16,
    "name": "ml.t3.xlarge",
    "vcpuNum": 4
   },
   {
    "_defaultOrder": 3,
    "_isFastLaunch": false,
    "category": "General purpose",
    "gpuNum": 0,
    "hideHardwareSpecs": false,
    "memoryGiB": 32,
    "name": "ml.t3.2xlarge",
    "vcpuNum": 8
   },
   {
    "_defaultOrder": 4,
    "_isFastLaunch": true,
    "category": "General purpose",
    "gpuNum": 0,
    "hideHardwareSpecs": false,
    "memoryGiB": 8,
    "name": "ml.m5.large",
    "vcpuNum": 2
   },
   {
    "_defaultOrder": 5,
    "_isFastLaunch": false,
    "category": "General purpose",
    "gpuNum": 0,
    "hideHardwareSpecs": false,
    "memoryGiB": 16,
    "name": "ml.m5.xlarge",
    "vcpuNum": 4
   },
   {
    "_defaultOrder": 6,
    "_isFastLaunch": false,
    "category": "General purpose",
    "gpuNum": 0,
    "hideHardwareSpecs": false,
    "memoryGiB": 32,
    "name": "ml.m5.2xlarge",
    "vcpuNum": 8
   },
   {
    "_defaultOrder": 7,
    "_isFastLaunch": false,
    "category": "General purpose",
    "gpuNum": 0,
    "hideHardwareSpecs": false,
    "memoryGiB": 64,
    "name": "ml.m5.4xlarge",
    "vcpuNum": 16
   },
   {
    "_defaultOrder": 8,
    "_isFastLaunch": false,
    "category": "General purpose",
    "gpuNum": 0,
    "hideHardwareSpecs": false,
    "memoryGiB": 128,
    "name": "ml.m5.8xlarge",
    "vcpuNum": 32
   },
   {
    "_defaultOrder": 9,
    "_isFastLaunch": false,
    "category": "General purpose",
    "gpuNum": 0,
    "hideHardwareSpecs": false,
    "memoryGiB": 192,
    "name": "ml.m5.12xlarge",
    "vcpuNum": 48
   },
   {
    "_defaultOrder": 10,
    "_isFastLaunch": false,
    "category": "General purpose",
    "gpuNum": 0,
    "hideHardwareSpecs": false,
    "memoryGiB": 256,
    "name": "ml.m5.16xlarge",
    "vcpuNum": 64
   },
   {
    "_defaultOrder": 11,
    "_isFastLaunch": false,
    "category": "General purpose",
    "gpuNum": 0,
    "hideHardwareSpecs": false,
    "memoryGiB": 384,
    "name": "ml.m5.24xlarge",
    "vcpuNum": 96
   },
   {
    "_defaultOrder": 12,
    "_isFastLaunch": false,
    "category": "General purpose",
    "gpuNum": 0,
    "hideHardwareSpecs": false,
    "memoryGiB": 8,
    "name": "ml.m5d.large",
    "vcpuNum": 2
   },
   {
    "_defaultOrder": 13,
    "_isFastLaunch": false,
    "category": "General purpose",
    "gpuNum": 0,
    "hideHardwareSpecs": false,
    "memoryGiB": 16,
    "name": "ml.m5d.xlarge",
    "vcpuNum": 4
   },
   {
    "_defaultOrder": 14,
    "_isFastLaunch": false,
    "category": "General purpose",
    "gpuNum": 0,
    "hideHardwareSpecs": false,
    "memoryGiB": 32,
    "name": "ml.m5d.2xlarge",
    "vcpuNum": 8
   },
   {
    "_defaultOrder": 15,
    "_isFastLaunch": false,
    "category": "General purpose",
    "gpuNum": 0,
    "hideHardwareSpecs": false,
    "memoryGiB": 64,
    "name": "ml.m5d.4xlarge",
    "vcpuNum": 16
   },
   {
    "_defaultOrder": 16,
    "_isFastLaunch": false,
    "category": "General purpose",
    "gpuNum": 0,
    "hideHardwareSpecs": false,
    "memoryGiB": 128,
    "name": "ml.m5d.8xlarge",
    "vcpuNum": 32
   },
   {
    "_defaultOrder": 17,
    "_isFastLaunch": false,
    "category": "General purpose",
    "gpuNum": 0,
    "hideHardwareSpecs": false,
    "memoryGiB": 192,
    "name": "ml.m5d.12xlarge",
    "vcpuNum": 48
   },
   {
    "_defaultOrder": 18,
    "_isFastLaunch": false,
    "category": "General purpose",
    "gpuNum": 0,
    "hideHardwareSpecs": false,
    "memoryGiB": 256,
    "name": "ml.m5d.16xlarge",
    "vcpuNum": 64
   },
   {
    "_defaultOrder": 19,
    "_isFastLaunch": false,
    "category": "General purpose",
    "gpuNum": 0,
    "hideHardwareSpecs": false,
    "memoryGiB": 384,
    "name": "ml.m5d.24xlarge",
    "vcpuNum": 96
   },
   {
    "_defaultOrder": 20,
    "_isFastLaunch": false,
    "category": "General purpose",
    "gpuNum": 0,
    "hideHardwareSpecs": true,
    "memoryGiB": 0,
    "name": "ml.geospatial.interactive",
    "supportedImageNames": [
     "sagemaker-geospatial-v1-0"
    ],
    "vcpuNum": 0
   },
   {
    "_defaultOrder": 21,
    "_isFastLaunch": true,
    "category": "Compute optimized",
    "gpuNum": 0,
    "hideHardwareSpecs": false,
    "memoryGiB": 4,
    "name": "ml.c5.large",
    "vcpuNum": 2
   },
   {
    "_defaultOrder": 22,
    "_isFastLaunch": false,
    "category": "Compute optimized",
    "gpuNum": 0,
    "hideHardwareSpecs": false,
    "memoryGiB": 8,
    "name": "ml.c5.xlarge",
    "vcpuNum": 4
   },
   {
    "_defaultOrder": 23,
    "_isFastLaunch": false,
    "category": "Compute optimized",
    "gpuNum": 0,
    "hideHardwareSpecs": false,
    "memoryGiB": 16,
    "name": "ml.c5.2xlarge",
    "vcpuNum": 8
   },
   {
    "_defaultOrder": 24,
    "_isFastLaunch": false,
    "category": "Compute optimized",
    "gpuNum": 0,
    "hideHardwareSpecs": false,
    "memoryGiB": 32,
    "name": "ml.c5.4xlarge",
    "vcpuNum": 16
   },
   {
    "_defaultOrder": 25,
    "_isFastLaunch": false,
    "category": "Compute optimized",
    "gpuNum": 0,
    "hideHardwareSpecs": false,
    "memoryGiB": 72,
    "name": "ml.c5.9xlarge",
    "vcpuNum": 36
   },
   {
    "_defaultOrder": 26,
    "_isFastLaunch": false,
    "category": "Compute optimized",
    "gpuNum": 0,
    "hideHardwareSpecs": false,
    "memoryGiB": 96,
    "name": "ml.c5.12xlarge",
    "vcpuNum": 48
   },
   {
    "_defaultOrder": 27,
    "_isFastLaunch": false,
    "category": "Compute optimized",
    "gpuNum": 0,
    "hideHardwareSpecs": false,
    "memoryGiB": 144,
    "name": "ml.c5.18xlarge",
    "vcpuNum": 72
   },
   {
    "_defaultOrder": 28,
    "_isFastLaunch": false,
    "category": "Compute optimized",
    "gpuNum": 0,
    "hideHardwareSpecs": false,
    "memoryGiB": 192,
    "name": "ml.c5.24xlarge",
    "vcpuNum": 96
   },
   {
    "_defaultOrder": 29,
    "_isFastLaunch": true,
    "category": "Accelerated computing",
    "gpuNum": 1,
    "hideHardwareSpecs": false,
    "memoryGiB": 16,
    "name": "ml.g4dn.xlarge",
    "vcpuNum": 4
   },
   {
    "_defaultOrder": 30,
    "_isFastLaunch": false,
    "category": "Accelerated computing",
    "gpuNum": 1,
    "hideHardwareSpecs": false,
    "memoryGiB": 32,
    "name": "ml.g4dn.2xlarge",
    "vcpuNum": 8
   },
   {
    "_defaultOrder": 31,
    "_isFastLaunch": false,
    "category": "Accelerated computing",
    "gpuNum": 1,
    "hideHardwareSpecs": false,
    "memoryGiB": 64,
    "name": "ml.g4dn.4xlarge",
    "vcpuNum": 16
   },
   {
    "_defaultOrder": 32,
    "_isFastLaunch": false,
    "category": "Accelerated computing",
    "gpuNum": 1,
    "hideHardwareSpecs": false,
    "memoryGiB": 128,
    "name": "ml.g4dn.8xlarge",
    "vcpuNum": 32
   },
   {
    "_defaultOrder": 33,
    "_isFastLaunch": false,
    "category": "Accelerated computing",
    "gpuNum": 4,
    "hideHardwareSpecs": false,
    "memoryGiB": 192,
    "name": "ml.g4dn.12xlarge",
    "vcpuNum": 48
   },
   {
    "_defaultOrder": 34,
    "_isFastLaunch": false,
    "category": "Accelerated computing",
    "gpuNum": 1,
    "hideHardwareSpecs": false,
    "memoryGiB": 256,
    "name": "ml.g4dn.16xlarge",
    "vcpuNum": 64
   },
   {
    "_defaultOrder": 35,
    "_isFastLaunch": false,
    "category": "Accelerated computing",
    "gpuNum": 1,
    "hideHardwareSpecs": false,
    "memoryGiB": 61,
    "name": "ml.p3.2xlarge",
    "vcpuNum": 8
   },
   {
    "_defaultOrder": 36,
    "_isFastLaunch": false,
    "category": "Accelerated computing",
    "gpuNum": 4,
    "hideHardwareSpecs": false,
    "memoryGiB": 244,
    "name": "ml.p3.8xlarge",
    "vcpuNum": 32
   },
   {
    "_defaultOrder": 37,
    "_isFastLaunch": false,
    "category": "Accelerated computing",
    "gpuNum": 8,
    "hideHardwareSpecs": false,
    "memoryGiB": 488,
    "name": "ml.p3.16xlarge",
    "vcpuNum": 64
   },
   {
    "_defaultOrder": 38,
    "_isFastLaunch": false,
    "category": "Accelerated computing",
    "gpuNum": 8,
    "hideHardwareSpecs": false,
    "memoryGiB": 768,
    "name": "ml.p3dn.24xlarge",
    "vcpuNum": 96
   },
   {
    "_defaultOrder": 39,
    "_isFastLaunch": false,
    "category": "Memory Optimized",
    "gpuNum": 0,
    "hideHardwareSpecs": false,
    "memoryGiB": 16,
    "name": "ml.r5.large",
    "vcpuNum": 2
   },
   {
    "_defaultOrder": 40,
    "_isFastLaunch": false,
    "category": "Memory Optimized",
    "gpuNum": 0,
    "hideHardwareSpecs": false,
    "memoryGiB": 32,
    "name": "ml.r5.xlarge",
    "vcpuNum": 4
   },
   {
    "_defaultOrder": 41,
    "_isFastLaunch": false,
    "category": "Memory Optimized",
    "gpuNum": 0,
    "hideHardwareSpecs": false,
    "memoryGiB": 64,
    "name": "ml.r5.2xlarge",
    "vcpuNum": 8
   },
   {
    "_defaultOrder": 42,
    "_isFastLaunch": false,
    "category": "Memory Optimized",
    "gpuNum": 0,
    "hideHardwareSpecs": false,
    "memoryGiB": 128,
    "name": "ml.r5.4xlarge",
    "vcpuNum": 16
   },
   {
    "_defaultOrder": 43,
    "_isFastLaunch": false,
    "category": "Memory Optimized",
    "gpuNum": 0,
    "hideHardwareSpecs": false,
    "memoryGiB": 256,
    "name": "ml.r5.8xlarge",
    "vcpuNum": 32
   },
   {
    "_defaultOrder": 44,
    "_isFastLaunch": false,
    "category": "Memory Optimized",
    "gpuNum": 0,
    "hideHardwareSpecs": false,
    "memoryGiB": 384,
    "name": "ml.r5.12xlarge",
    "vcpuNum": 48
   },
   {
    "_defaultOrder": 45,
    "_isFastLaunch": false,
    "category": "Memory Optimized",
    "gpuNum": 0,
    "hideHardwareSpecs": false,
    "memoryGiB": 512,
    "name": "ml.r5.16xlarge",
    "vcpuNum": 64
   },
   {
    "_defaultOrder": 46,
    "_isFastLaunch": false,
    "category": "Memory Optimized",
    "gpuNum": 0,
    "hideHardwareSpecs": false,
    "memoryGiB": 768,
    "name": "ml.r5.24xlarge",
    "vcpuNum": 96
   },
   {
    "_defaultOrder": 47,
    "_isFastLaunch": false,
    "category": "Accelerated computing",
    "gpuNum": 1,
    "hideHardwareSpecs": false,
    "memoryGiB": 16,
    "name": "ml.g5.xlarge",
    "vcpuNum": 4
   },
   {
    "_defaultOrder": 48,
    "_isFastLaunch": false,
    "category": "Accelerated computing",
    "gpuNum": 1,
    "hideHardwareSpecs": false,
    "memoryGiB": 32,
    "name": "ml.g5.2xlarge",
    "vcpuNum": 8
   },
   {
    "_defaultOrder": 49,
    "_isFastLaunch": false,
    "category": "Accelerated computing",
    "gpuNum": 1,
    "hideHardwareSpecs": false,
    "memoryGiB": 64,
    "name": "ml.g5.4xlarge",
    "vcpuNum": 16
   },
   {
    "_defaultOrder": 50,
    "_isFastLaunch": false,
    "category": "Accelerated computing",
    "gpuNum": 1,
    "hideHardwareSpecs": false,
    "memoryGiB": 128,
    "name": "ml.g5.8xlarge",
    "vcpuNum": 32
   },
   {
    "_defaultOrder": 51,
    "_isFastLaunch": false,
    "category": "Accelerated computing",
    "gpuNum": 1,
    "hideHardwareSpecs": false,
    "memoryGiB": 256,
    "name": "ml.g5.16xlarge",
    "vcpuNum": 64
   },
   {
    "_defaultOrder": 52,
    "_isFastLaunch": false,
    "category": "Accelerated computing",
    "gpuNum": 4,
    "hideHardwareSpecs": false,
    "memoryGiB": 192,
    "name": "ml.g5.12xlarge",
    "vcpuNum": 48
   },
   {
    "_defaultOrder": 53,
    "_isFastLaunch": false,
    "category": "Accelerated computing",
    "gpuNum": 4,
    "hideHardwareSpecs": false,
    "memoryGiB": 384,
    "name": "ml.g5.24xlarge",
    "vcpuNum": 96
   },
   {
    "_defaultOrder": 54,
    "_isFastLaunch": false,
    "category": "Accelerated computing",
    "gpuNum": 8,
    "hideHardwareSpecs": false,
    "memoryGiB": 768,
    "name": "ml.g5.48xlarge",
    "vcpuNum": 192
   },
   {
    "_defaultOrder": 55,
    "_isFastLaunch": false,
    "category": "Accelerated computing",
    "gpuNum": 8,
    "hideHardwareSpecs": false,
    "memoryGiB": 1152,
    "name": "ml.p4d.24xlarge",
    "vcpuNum": 96
   },
   {
    "_defaultOrder": 56,
    "_isFastLaunch": false,
    "category": "Accelerated computing",
    "gpuNum": 8,
    "hideHardwareSpecs": false,
    "memoryGiB": 1152,
    "name": "ml.p4de.24xlarge",
    "vcpuNum": 96
   },
   {
    "_defaultOrder": 57,
    "_isFastLaunch": false,
    "category": "Accelerated computing",
    "gpuNum": 0,
    "hideHardwareSpecs": false,
    "memoryGiB": 32,
    "name": "ml.trn1.2xlarge",
    "vcpuNum": 8
   },
   {
    "_defaultOrder": 58,
    "_isFastLaunch": false,
    "category": "Accelerated computing",
    "gpuNum": 0,
    "hideHardwareSpecs": false,
    "memoryGiB": 512,
    "name": "ml.trn1.32xlarge",
    "vcpuNum": 128
   },
   {
    "_defaultOrder": 59,
    "_isFastLaunch": false,
    "category": "Accelerated computing",
    "gpuNum": 0,
    "hideHardwareSpecs": false,
    "memoryGiB": 512,
    "name": "ml.trn1n.32xlarge",
    "vcpuNum": 128
   }
  ],
  "instance_type": "ml.m5.2xlarge",
  "kernelspec": {
   "display_name": "Python 3 (ipykernel)",
   "language": "python",
   "name": "python3"
  },
  "language_info": {
   "codemirror_mode": {
    "name": "ipython",
    "version": 3
   },
   "file_extension": ".py",
   "mimetype": "text/x-python",
   "name": "python",
   "nbconvert_exporter": "python",
   "pygments_lexer": "ipython3",
   "version": "3.10.13"
  }
 },
 "nbformat": 4,
 "nbformat_minor": 5
}
